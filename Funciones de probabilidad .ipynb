{
 "cells": [
  {
   "cell_type": "markdown",
   "metadata": {},
   "source": [
    "# Funciones de Probabilidad"
   ]
  },
  {
   "cell_type": "markdown",
   "metadata": {},
   "source": [
    "### Distribucion Uniforme"
   ]
  },
  {
   "cell_type": "code",
   "execution_count": 1,
   "metadata": {},
   "outputs": [],
   "source": [
    "import numpy as np\n",
    "import matplotlib.pyplot as plt"
   ]
  },
  {
   "cell_type": "code",
   "execution_count": 2,
   "metadata": {},
   "outputs": [],
   "source": [
    "a=1\n",
    "b=200\n",
    "n=200\n",
    "data= np.random.uniform(a,b,n,)"
   ]
  },
  {
   "cell_type": "code",
   "execution_count": 3,
   "metadata": {},
   "outputs": [
    {
     "data": {
      "text/plain": [
       "array([ 12.03994818,  46.24291012,  32.98636631,  32.30455831,\n",
       "        62.81339665,  46.56046279, 193.41639256, 109.6813588 ,\n",
       "        15.84357853, 186.18765975,  36.23126582,  78.54857187,\n",
       "        11.57885397, 157.25896831, 163.23213682, 178.14410232,\n",
       "        28.39074988, 174.4712957 ,   9.38662795, 151.41036018,\n",
       "       180.25212099, 101.99714127, 139.2833932 ,  98.70774252,\n",
       "       131.48326212,  54.80438558,   2.10768127, 177.97914597,\n",
       "       106.07492112, 187.81047825,  85.98549028, 195.30178135,\n",
       "       182.55462235,   5.86223246,  22.18639296, 119.18377988,\n",
       "        52.79032097, 156.34954834, 120.52461979,  37.60641595,\n",
       "       124.22155382, 140.79617089,  44.96880892,  84.57894412,\n",
       "       149.06633377, 147.28927757,  25.4308288 , 174.59835811,\n",
       "       149.14430334,  42.24772331, 184.21293858, 175.61412417,\n",
       "       133.45069464,  52.89975394,  92.05871269,   8.31264988,\n",
       "        23.15694662,  48.2248359 ,  58.54459241, 169.68469392,\n",
       "        81.66682648,  55.26824275,  18.01475198,  55.51307101,\n",
       "        12.55624285, 174.63774554,  77.24667187, 184.88129785,\n",
       "        51.26398239,  28.54526509, 151.13330392, 138.69550847,\n",
       "       182.57098512, 102.00259844, 138.34985876, 193.56068521,\n",
       "        30.81230877, 112.23939787, 159.42477964,  32.17212507,\n",
       "        19.4750921 , 138.98907297,  21.36992259,  60.353897  ,\n",
       "       132.92880126, 138.32474103,  40.71230087,  57.878561  ,\n",
       "        67.6586592 ,  30.86902876, 199.07285   ,  55.40351467,\n",
       "        67.18000648, 111.61918279, 190.03350725, 156.66814197,\n",
       "        17.26866184, 110.92483233, 182.28000858,  19.43092685,\n",
       "       152.41445986, 176.75720632,  34.16903747,   5.9938058 ,\n",
       "        86.77255985, 118.1400254 ,  54.46474038,  16.45851901,\n",
       "       146.58008941,  87.09509125, 194.52472924, 181.88805228,\n",
       "       126.09754227, 175.34416767,  41.35831048, 192.67456078,\n",
       "       167.68819047, 131.48650625,  40.40263118,  28.30316095,\n",
       "        90.76339285,  79.00929505,  94.61238795,  83.8508178 ,\n",
       "        88.73171985,  62.39701164,  86.40188756, 127.8317809 ,\n",
       "       112.80759077,  13.05814942, 195.09321035, 156.22860544,\n",
       "        47.92948539, 181.23372864, 192.10171356,  78.44958451,\n",
       "       111.2127396 , 137.82990853,  54.74908593, 168.23721483,\n",
       "       126.95363842, 139.75357072, 107.37240065, 156.18948658,\n",
       "         8.21298642, 175.17901989, 127.00513398, 111.83115774,\n",
       "       186.81997746,  95.75350189,  90.57969856, 182.19245534,\n",
       "        41.95172919, 198.66631776, 168.57732916,  12.78636082,\n",
       "       180.10901261,  23.83840586, 156.67239234,  89.98587246,\n",
       "       131.70834504, 195.77050785,  11.22704111,  65.8579535 ,\n",
       "        78.61558747, 179.07971145, 182.66525265, 172.34109861,\n",
       "       194.46657327,  68.56881856, 158.54405208, 176.93341902,\n",
       "       175.31386365, 128.02264585, 127.87808946,  28.54301195,\n",
       "       136.09852094,  23.69934126,  96.68575226,  47.27221143,\n",
       "       151.21112587,  59.26591678,  16.97248804,  70.06783922,\n",
       "        48.03530161,   8.94102571, 163.96798523,  99.75983203,\n",
       "       105.33628683, 136.76073029, 175.13117927, 120.45074156,\n",
       "       115.24439354, 196.54709629,  98.65410856,  36.44918509,\n",
       "       190.01818134,  32.74609549, 191.77119302, 158.6550986 ])"
      ]
     },
     "execution_count": 3,
     "metadata": {},
     "output_type": "execute_result"
    }
   ],
   "source": [
    "data"
   ]
  },
  {
   "cell_type": "code",
   "execution_count": 4,
   "metadata": {},
   "outputs": [
    {
     "data": {
      "text/plain": [
       "(array([21., 22., 22., 12., 18., 15., 23., 18., 20., 29.]),\n",
       " array([  2.10768127,  21.80419814,  41.50071502,  61.19723189,\n",
       "         80.89374876, 100.59026564, 120.28678251, 139.98329938,\n",
       "        159.67981625, 179.37633313, 199.07285   ]),\n",
       " <BarContainer object of 10 artists>)"
      ]
     },
     "execution_count": 4,
     "metadata": {},
     "output_type": "execute_result"
    },
    {
     "data": {
      "image/png": "[encoded data removed]",
      "text/plain": [
       "<Figure size 432x288 with 1 Axes>"
      ]
     },
     "metadata": {
      "needs_background": "light"
     },
     "output_type": "display_data"
    }
   ],
   "source": [
    "%matplotlib inline\n",
    "plt.hist(data)"
   ]
  },
  {
   "cell_type": "code",
   "execution_count": null,
   "metadata": {},
   "outputs": [],
   "source": []
  },
  {
   "cell_type": "code",
   "execution_count": null,
   "metadata": {},
   "outputs": [],
   "source": []
  },
  {
   "cell_type": "code",
   "execution_count": null,
   "metadata": {},
   "outputs": [],
   "source": []
  },
  {
   "cell_type": "code",
   "execution_count": null,
   "metadata": {},
   "outputs": [],
   "source": []
  }
 ],
 "metadata": {
  "kernelspec": {
   "display_name": "Python 3",
   "language": "python",
   "name": "python3"
  },
  "language_info": {
   "codemirror_mode": {
    "name": "ipython",
    "version": 3
   },
   "file_extension": ".py",
   "mimetype": "text/x-python",
   "name": "python",
   "nbconvert_exporter": "python",
   "pygments_lexer": "ipython3",
   "version": "3.8.5"
  }
 },
 "nbformat": 4,
 "nbformat_minor": 4
}
