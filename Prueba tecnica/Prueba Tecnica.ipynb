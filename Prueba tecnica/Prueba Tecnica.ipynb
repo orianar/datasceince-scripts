{
 "cells": [
  {
   "cell_type": "markdown",
   "metadata": {},
   "source": [
    "# Prueba tecnica"
   ]
  },
  {
   "cell_type": "code",
   "execution_count": 1,
   "metadata": {},
   "outputs": [],
   "source": [
    "import pandas as pd \n",
    "import numpy as np"
   ]
  },
  {
   "cell_type": "code",
   "execution_count": 2,
   "metadata": {},
   "outputs": [],
   "source": [
    "file = \"Downloads/prueba/Reactive_results.xlsx\"\n",
    "data= pd.read_excel(file)"
   ]
  },
  {
   "cell_type": "code",
   "execution_count": 3,
   "metadata": {},
   "outputs": [
    {
     "data": {
      "text/html": [
       "<div>\n",
       "<style scoped>\n",
       "    .dataframe tbody tr th:only-of-type {\n",
       "        vertical-align: middle;\n",
       "    }\n",
       "\n",
       "    .dataframe tbody tr th {\n",
       "        vertical-align: top;\n",
       "    }\n",
       "\n",
       "    .dataframe thead th {\n",
       "        text-align: right;\n",
       "    }\n",
       "</style>\n",
       "<table border=\"1\" class=\"dataframe\">\n",
       "  <thead>\n",
       "    <tr style=\"text-align: right;\">\n",
       "      <th></th>\n",
       "      <th>Case</th>\n",
       "      <th>Scenario</th>\n",
       "      <th>Variation</th>\n",
       "      <th>Generator</th>\n",
       "      <th>Power factor</th>\n",
       "      <th>PF Type</th>\n",
       "      <th>Element</th>\n",
       "      <th>Parameter</th>\n",
       "      <th>Value</th>\n",
       "      <th>Type</th>\n",
       "    </tr>\n",
       "  </thead>\n",
       "  <tbody>\n",
       "    <tr>\n",
       "      <th>0</th>\n",
       "      <td>2026</td>\n",
       "      <td>2026_DzMD_GzMD_Dp00_Gp00</td>\n",
       "      <td>A1-Pensilvania 33 kV</td>\n",
       "      <td>All generators</td>\n",
       "      <td>0.90</td>\n",
       "      <td>cap</td>\n",
       "      <td>Dorada - Magdalena 115 kV</td>\n",
       "      <td>m:P:bus1 in MW</td>\n",
       "      <td>60.1058</td>\n",
       "      <td>ElmLne</td>\n",
       "    </tr>\n",
       "    <tr>\n",
       "      <th>1</th>\n",
       "      <td>2026</td>\n",
       "      <td>2026_DzMD_GzMD_Dp00_Gp00</td>\n",
       "      <td>A1-Pensilvania 33 kV</td>\n",
       "      <td>All generators</td>\n",
       "      <td>0.91</td>\n",
       "      <td>cap</td>\n",
       "      <td>Dorada - Magdalena 115 kV</td>\n",
       "      <td>m:P:bus1 in MW</td>\n",
       "      <td>60.1243</td>\n",
       "      <td>ElmLne</td>\n",
       "    </tr>\n",
       "    <tr>\n",
       "      <th>2</th>\n",
       "      <td>2026</td>\n",
       "      <td>2026_DzMD_GzMD_Dp00_Gp00</td>\n",
       "      <td>A1-Pensilvania 33 kV</td>\n",
       "      <td>All generators</td>\n",
       "      <td>0.92</td>\n",
       "      <td>cap</td>\n",
       "      <td>Dorada - Magdalena 115 kV</td>\n",
       "      <td>m:P:bus1 in MW</td>\n",
       "      <td>60.1418</td>\n",
       "      <td>ElmLne</td>\n",
       "    </tr>\n",
       "    <tr>\n",
       "      <th>3</th>\n",
       "      <td>2026</td>\n",
       "      <td>2026_DzMD_GzMD_Dp00_Gp00</td>\n",
       "      <td>A1-Pensilvania 33 kV</td>\n",
       "      <td>All generators</td>\n",
       "      <td>0.93</td>\n",
       "      <td>cap</td>\n",
       "      <td>Dorada - Magdalena 115 kV</td>\n",
       "      <td>m:P:bus1 in MW</td>\n",
       "      <td>60.1586</td>\n",
       "      <td>ElmLne</td>\n",
       "    </tr>\n",
       "    <tr>\n",
       "      <th>4</th>\n",
       "      <td>2026</td>\n",
       "      <td>2026_DzMD_GzMD_Dp00_Gp00</td>\n",
       "      <td>A1-Pensilvania 33 kV</td>\n",
       "      <td>All generators</td>\n",
       "      <td>0.94</td>\n",
       "      <td>cap</td>\n",
       "      <td>Dorada - Magdalena 115 kV</td>\n",
       "      <td>m:P:bus1 in MW</td>\n",
       "      <td>60.1749</td>\n",
       "      <td>ElmLne</td>\n",
       "    </tr>\n",
       "  </tbody>\n",
       "</table>\n",
       "</div>"
      ],
      "text/plain": [
       "   Case                  Scenario             Variation       Generator  \\\n",
       "0  2026  2026_DzMD_GzMD_Dp00_Gp00  A1-Pensilvania 33 kV  All generators   \n",
       "1  2026  2026_DzMD_GzMD_Dp00_Gp00  A1-Pensilvania 33 kV  All generators   \n",
       "2  2026  2026_DzMD_GzMD_Dp00_Gp00  A1-Pensilvania 33 kV  All generators   \n",
       "3  2026  2026_DzMD_GzMD_Dp00_Gp00  A1-Pensilvania 33 kV  All generators   \n",
       "4  2026  2026_DzMD_GzMD_Dp00_Gp00  A1-Pensilvania 33 kV  All generators   \n",
       "\n",
       "   Power factor PF Type                    Element       Parameter    Value  \\\n",
       "0          0.90     cap  Dorada - Magdalena 115 kV  m:P:bus1 in MW  60.1058   \n",
       "1          0.91     cap  Dorada - Magdalena 115 kV  m:P:bus1 in MW  60.1243   \n",
       "2          0.92     cap  Dorada - Magdalena 115 kV  m:P:bus1 in MW  60.1418   \n",
       "3          0.93     cap  Dorada - Magdalena 115 kV  m:P:bus1 in MW  60.1586   \n",
       "4          0.94     cap  Dorada - Magdalena 115 kV  m:P:bus1 in MW  60.1749   \n",
       "\n",
       "     Type  \n",
       "0  ElmLne  \n",
       "1  ElmLne  \n",
       "2  ElmLne  \n",
       "3  ElmLne  \n",
       "4  ElmLne  "
      ]
     },
     "execution_count": 3,
     "metadata": {},
     "output_type": "execute_result"
    }
   ],
   "source": [
    "data.head()"
   ]
  },
  {
   "cell_type": "code",
   "execution_count": 4,
   "metadata": {},
   "outputs": [
    {
     "data": {
      "text/plain": [
       "['Case',\n",
       " 'Scenario',\n",
       " 'Variation',\n",
       " 'Generator',\n",
       " 'Power factor',\n",
       " 'PF Type',\n",
       " 'Element',\n",
       " 'Parameter',\n",
       " 'Value',\n",
       " 'Type']"
      ]
     },
     "execution_count": 4,
     "metadata": {},
     "output_type": "execute_result"
    }
   ],
   "source": [
    "data.columns.values.tolist()"
   ]
  },
  {
   "cell_type": "code",
   "execution_count": 5,
   "metadata": {},
   "outputs": [],
   "source": [
    "data_scenario = data[data['Scenario']== \"2031_DzMN_GzMN_Dp00_Gp00\"] \n",
    "data_parameter = data_scenario[data_scenario['Parameter'] == \"m:P:bus1 in MW\"] \n",
    "data_element = data_parameter[data_parameter['Element'] == \"Dorada - Magdalena 115 kV\"]"
   ]
  },
  {
   "cell_type": "code",
   "execution_count": 6,
   "metadata": {},
   "outputs": [
    {
     "data": {
      "text/html": [
       "<div>\n",
       "<style scoped>\n",
       "    .dataframe tbody tr th:only-of-type {\n",
       "        vertical-align: middle;\n",
       "    }\n",
       "\n",
       "    .dataframe tbody tr th {\n",
       "        vertical-align: top;\n",
       "    }\n",
       "\n",
       "    .dataframe thead th {\n",
       "        text-align: right;\n",
       "    }\n",
       "</style>\n",
       "<table border=\"1\" class=\"dataframe\">\n",
       "  <thead>\n",
       "    <tr style=\"text-align: right;\">\n",
       "      <th></th>\n",
       "      <th>Case</th>\n",
       "      <th>Scenario</th>\n",
       "      <th>Variation</th>\n",
       "      <th>Generator</th>\n",
       "      <th>Power factor</th>\n",
       "      <th>PF Type</th>\n",
       "      <th>Element</th>\n",
       "      <th>Parameter</th>\n",
       "      <th>Value</th>\n",
       "      <th>Type</th>\n",
       "    </tr>\n",
       "  </thead>\n",
       "  <tbody>\n",
       "    <tr>\n",
       "      <th>21128</th>\n",
       "      <td>2031</td>\n",
       "      <td>2031_DzMN_GzMN_Dp00_Gp00</td>\n",
       "      <td>A1-Pensilvania 33 kV</td>\n",
       "      <td>All generators</td>\n",
       "      <td>0.90</td>\n",
       "      <td>cap</td>\n",
       "      <td>Dorada - Magdalena 115 kV</td>\n",
       "      <td>m:P:bus1 in MW</td>\n",
       "      <td>30.9612</td>\n",
       "      <td>ElmLne</td>\n",
       "    </tr>\n",
       "    <tr>\n",
       "      <th>21129</th>\n",
       "      <td>2031</td>\n",
       "      <td>2031_DzMN_GzMN_Dp00_Gp00</td>\n",
       "      <td>A1-Pensilvania 33 kV</td>\n",
       "      <td>All generators</td>\n",
       "      <td>0.91</td>\n",
       "      <td>cap</td>\n",
       "      <td>Dorada - Magdalena 115 kV</td>\n",
       "      <td>m:P:bus1 in MW</td>\n",
       "      <td>30.9833</td>\n",
       "      <td>ElmLne</td>\n",
       "    </tr>\n",
       "    <tr>\n",
       "      <th>21130</th>\n",
       "      <td>2031</td>\n",
       "      <td>2031_DzMN_GzMN_Dp00_Gp00</td>\n",
       "      <td>A1-Pensilvania 33 kV</td>\n",
       "      <td>All generators</td>\n",
       "      <td>0.92</td>\n",
       "      <td>cap</td>\n",
       "      <td>Dorada - Magdalena 115 kV</td>\n",
       "      <td>m:P:bus1 in MW</td>\n",
       "      <td>31.0038</td>\n",
       "      <td>ElmLne</td>\n",
       "    </tr>\n",
       "    <tr>\n",
       "      <th>21131</th>\n",
       "      <td>2031</td>\n",
       "      <td>2031_DzMN_GzMN_Dp00_Gp00</td>\n",
       "      <td>A1-Pensilvania 33 kV</td>\n",
       "      <td>All generators</td>\n",
       "      <td>0.93</td>\n",
       "      <td>cap</td>\n",
       "      <td>Dorada - Magdalena 115 kV</td>\n",
       "      <td>m:P:bus1 in MW</td>\n",
       "      <td>31.0231</td>\n",
       "      <td>ElmLne</td>\n",
       "    </tr>\n",
       "    <tr>\n",
       "      <th>21132</th>\n",
       "      <td>2031</td>\n",
       "      <td>2031_DzMN_GzMN_Dp00_Gp00</td>\n",
       "      <td>A1-Pensilvania 33 kV</td>\n",
       "      <td>All generators</td>\n",
       "      <td>0.94</td>\n",
       "      <td>cap</td>\n",
       "      <td>Dorada - Magdalena 115 kV</td>\n",
       "      <td>m:P:bus1 in MW</td>\n",
       "      <td>31.0415</td>\n",
       "      <td>ElmLne</td>\n",
       "    </tr>\n",
       "  </tbody>\n",
       "</table>\n",
       "</div>"
      ],
      "text/plain": [
       "       Case                  Scenario             Variation       Generator  \\\n",
       "21128  2031  2031_DzMN_GzMN_Dp00_Gp00  A1-Pensilvania 33 kV  All generators   \n",
       "21129  2031  2031_DzMN_GzMN_Dp00_Gp00  A1-Pensilvania 33 kV  All generators   \n",
       "21130  2031  2031_DzMN_GzMN_Dp00_Gp00  A1-Pensilvania 33 kV  All generators   \n",
       "21131  2031  2031_DzMN_GzMN_Dp00_Gp00  A1-Pensilvania 33 kV  All generators   \n",
       "21132  2031  2031_DzMN_GzMN_Dp00_Gp00  A1-Pensilvania 33 kV  All generators   \n",
       "\n",
       "       Power factor PF Type                    Element       Parameter  \\\n",
       "21128          0.90     cap  Dorada - Magdalena 115 kV  m:P:bus1 in MW   \n",
       "21129          0.91     cap  Dorada - Magdalena 115 kV  m:P:bus1 in MW   \n",
       "21130          0.92     cap  Dorada - Magdalena 115 kV  m:P:bus1 in MW   \n",
       "21131          0.93     cap  Dorada - Magdalena 115 kV  m:P:bus1 in MW   \n",
       "21132          0.94     cap  Dorada - Magdalena 115 kV  m:P:bus1 in MW   \n",
       "\n",
       "         Value    Type  \n",
       "21128  30.9612  ElmLne  \n",
       "21129  30.9833  ElmLne  \n",
       "21130  31.0038  ElmLne  \n",
       "21131  31.0231  ElmLne  \n",
       "21132  31.0415  ElmLne  "
      ]
     },
     "execution_count": 6,
     "metadata": {},
     "output_type": "execute_result"
    }
   ],
   "source": [
    "data_element.head()"
   ]
  },
  {
   "cell_type": "code",
   "execution_count": 7,
   "metadata": {},
   "outputs": [
    {
     "data": {
      "text/html": [
       "<div>\n",
       "<style scoped>\n",
       "    .dataframe tbody tr th:only-of-type {\n",
       "        vertical-align: middle;\n",
       "    }\n",
       "\n",
       "    .dataframe tbody tr th {\n",
       "        vertical-align: top;\n",
       "    }\n",
       "\n",
       "    .dataframe thead th {\n",
       "        text-align: right;\n",
       "    }\n",
       "</style>\n",
       "<table border=\"1\" class=\"dataframe\">\n",
       "  <thead>\n",
       "    <tr style=\"text-align: right;\">\n",
       "      <th></th>\n",
       "      <th>Variation</th>\n",
       "      <th>PF Type</th>\n",
       "      <th>Power factor</th>\n",
       "      <th>Value</th>\n",
       "    </tr>\n",
       "  </thead>\n",
       "  <tbody>\n",
       "    <tr>\n",
       "      <th>21128</th>\n",
       "      <td>A1-Pensilvania 33 kV</td>\n",
       "      <td>cap</td>\n",
       "      <td>0.90</td>\n",
       "      <td>30.9612</td>\n",
       "    </tr>\n",
       "    <tr>\n",
       "      <th>21129</th>\n",
       "      <td>A1-Pensilvania 33 kV</td>\n",
       "      <td>cap</td>\n",
       "      <td>0.91</td>\n",
       "      <td>30.9833</td>\n",
       "    </tr>\n",
       "    <tr>\n",
       "      <th>21130</th>\n",
       "      <td>A1-Pensilvania 33 kV</td>\n",
       "      <td>cap</td>\n",
       "      <td>0.92</td>\n",
       "      <td>31.0038</td>\n",
       "    </tr>\n",
       "    <tr>\n",
       "      <th>21131</th>\n",
       "      <td>A1-Pensilvania 33 kV</td>\n",
       "      <td>cap</td>\n",
       "      <td>0.93</td>\n",
       "      <td>31.0231</td>\n",
       "    </tr>\n",
       "    <tr>\n",
       "      <th>21132</th>\n",
       "      <td>A1-Pensilvania 33 kV</td>\n",
       "      <td>cap</td>\n",
       "      <td>0.94</td>\n",
       "      <td>31.0415</td>\n",
       "    </tr>\n",
       "  </tbody>\n",
       "</table>\n",
       "</div>"
      ],
      "text/plain": [
       "                  Variation PF Type  Power factor    Value\n",
       "21128  A1-Pensilvania 33 kV     cap          0.90  30.9612\n",
       "21129  A1-Pensilvania 33 kV     cap          0.91  30.9833\n",
       "21130  A1-Pensilvania 33 kV     cap          0.92  31.0038\n",
       "21131  A1-Pensilvania 33 kV     cap          0.93  31.0231\n",
       "21132  A1-Pensilvania 33 kV     cap          0.94  31.0415"
      ]
     },
     "execution_count": 7,
     "metadata": {},
     "output_type": "execute_result"
    }
   ],
   "source": [
    "columnas_import = data_element[[\"Variation\", \"PF Type\", \"Power factor\", \"Value\"]]\n",
    "columnas_import.head()"
   ]
  },
  {
   "cell_type": "code",
   "execution_count": 8,
   "metadata": {},
   "outputs": [
    {
     "data": {
      "text/html": [
       "<div>\n",
       "<style scoped>\n",
       "    .dataframe tbody tr th:only-of-type {\n",
       "        vertical-align: middle;\n",
       "    }\n",
       "\n",
       "    .dataframe tbody tr th {\n",
       "        vertical-align: top;\n",
       "    }\n",
       "\n",
       "    .dataframe thead th {\n",
       "        text-align: right;\n",
       "    }\n",
       "</style>\n",
       "<table border=\"1\" class=\"dataframe\">\n",
       "  <thead>\n",
       "    <tr style=\"text-align: right;\">\n",
       "      <th></th>\n",
       "      <th>Variation</th>\n",
       "      <th>PF Type</th>\n",
       "      <th>Power factor</th>\n",
       "      <th>Value</th>\n",
       "    </tr>\n",
       "  </thead>\n",
       "  <tbody>\n",
       "    <tr>\n",
       "      <th>0</th>\n",
       "      <td>A1-Pensilvania 33 kV</td>\n",
       "      <td>cap</td>\n",
       "      <td>0.90</td>\n",
       "      <td>30.961220</td>\n",
       "    </tr>\n",
       "    <tr>\n",
       "      <th>1</th>\n",
       "      <td>A1-Pensilvania 33 kV</td>\n",
       "      <td>cap</td>\n",
       "      <td>0.91</td>\n",
       "      <td>30.983332</td>\n",
       "    </tr>\n",
       "    <tr>\n",
       "      <th>2</th>\n",
       "      <td>A1-Pensilvania 33 kV</td>\n",
       "      <td>cap</td>\n",
       "      <td>0.92</td>\n",
       "      <td>31.003791</td>\n",
       "    </tr>\n",
       "    <tr>\n",
       "      <th>3</th>\n",
       "      <td>A1-Pensilvania 33 kV</td>\n",
       "      <td>cap</td>\n",
       "      <td>0.93</td>\n",
       "      <td>31.023065</td>\n",
       "    </tr>\n",
       "    <tr>\n",
       "      <th>4</th>\n",
       "      <td>A1-Pensilvania 33 kV</td>\n",
       "      <td>cap</td>\n",
       "      <td>0.94</td>\n",
       "      <td>31.041529</td>\n",
       "    </tr>\n",
       "  </tbody>\n",
       "</table>\n",
       "</div>"
      ],
      "text/plain": [
       "              Variation PF Type  Power factor      Value\n",
       "0  A1-Pensilvania 33 kV     cap          0.90  30.961220\n",
       "1  A1-Pensilvania 33 kV     cap          0.91  30.983332\n",
       "2  A1-Pensilvania 33 kV     cap          0.92  31.003791\n",
       "3  A1-Pensilvania 33 kV     cap          0.93  31.023065\n",
       "4  A1-Pensilvania 33 kV     cap          0.94  31.041529"
      ]
     },
     "execution_count": 8,
     "metadata": {},
     "output_type": "execute_result"
    }
   ],
   "source": [
    "group_data = columnas_import.groupby([\"Variation\", \"PF Type\", \"Power factor\"]).first().reset_index()\n",
    "group_data.head()\n"
   ]
  },
  {
   "cell_type": "code",
   "execution_count": 9,
   "metadata": {},
   "outputs": [
    {
     "name": "stdout",
     "output_type": "stream",
     "text": [
      "['A1-Pensilvania 33 kV' 'A2- Bolivia 33 kV' 'A3 -Florencia 33 kV'\n",
      " 'Caso Base']\n"
     ]
    }
   ],
   "source": [
    "distinct_variations = data_element[\"Variation\"].unique()\n",
    "print(distinct_variations)"
   ]
  },
  {
   "cell_type": "code",
   "execution_count": 10,
   "metadata": {},
   "outputs": [],
   "source": [
    "variations = []\n",
    "\n",
    "for key in distinct_variations:\n",
    "    variation_filtrada = group_data[group_data[\"Variation\"] == key].drop(columns = [\"Variation\"])\n",
    "    variation_renombrada = variation_filtrada.rename(columns = {\"Value\": key})\n",
    "    variations.append(variation_renombrada)\n"
   ]
  },
  {
   "cell_type": "code",
   "execution_count": 11,
   "metadata": {},
   "outputs": [],
   "source": [
    "result = variations[0]\n",
    "for variation in variations[1:]:\n",
    "    df1 = result\n",
    "    df2 = variation\n",
    "    result = df1.merge(df2,on=[\"PF Type\", \"Power factor\"],how='inner')\n",
    "\n"
   ]
  },
  {
   "cell_type": "code",
   "execution_count": 12,
   "metadata": {},
   "outputs": [],
   "source": [
    "result = result.groupby([\"PF Type\", \"Power factor\"]).first()"
   ]
  },
  {
   "cell_type": "code",
   "execution_count": 13,
   "metadata": {},
   "outputs": [
    {
     "data": {
      "text/html": [
       "<div>\n",
       "<style scoped>\n",
       "    .dataframe tbody tr th:only-of-type {\n",
       "        vertical-align: middle;\n",
       "    }\n",
       "\n",
       "    .dataframe tbody tr th {\n",
       "        vertical-align: top;\n",
       "    }\n",
       "\n",
       "    .dataframe thead th {\n",
       "        text-align: right;\n",
       "    }\n",
       "</style>\n",
       "<table border=\"1\" class=\"dataframe\">\n",
       "  <thead>\n",
       "    <tr style=\"text-align: right;\">\n",
       "      <th></th>\n",
       "      <th></th>\n",
       "      <th>A1-Pensilvania 33 kV</th>\n",
       "      <th>A2- Bolivia 33 kV</th>\n",
       "      <th>A3 -Florencia 33 kV</th>\n",
       "      <th>Caso Base</th>\n",
       "    </tr>\n",
       "    <tr>\n",
       "      <th>PF Type</th>\n",
       "      <th>Power factor</th>\n",
       "      <th></th>\n",
       "      <th></th>\n",
       "      <th></th>\n",
       "      <th></th>\n",
       "    </tr>\n",
       "  </thead>\n",
       "  <tbody>\n",
       "    <tr>\n",
       "      <th rowspan=\"5\" valign=\"top\">cap</th>\n",
       "      <th>0.90</th>\n",
       "      <td>30.961220</td>\n",
       "      <td>30.913912</td>\n",
       "      <td>31.085785</td>\n",
       "      <td>30.653101</td>\n",
       "    </tr>\n",
       "    <tr>\n",
       "      <th>0.91</th>\n",
       "      <td>30.983332</td>\n",
       "      <td>30.934698</td>\n",
       "      <td>31.103201</td>\n",
       "      <td>30.653101</td>\n",
       "    </tr>\n",
       "    <tr>\n",
       "      <th>0.92</th>\n",
       "      <td>31.003791</td>\n",
       "      <td>30.953853</td>\n",
       "      <td>31.119856</td>\n",
       "      <td>30.653101</td>\n",
       "    </tr>\n",
       "    <tr>\n",
       "      <th>0.93</th>\n",
       "      <td>31.023065</td>\n",
       "      <td>30.971853</td>\n",
       "      <td>31.135961</td>\n",
       "      <td>30.653101</td>\n",
       "    </tr>\n",
       "    <tr>\n",
       "      <th>0.94</th>\n",
       "      <td>31.041529</td>\n",
       "      <td>30.989070</td>\n",
       "      <td>31.151720</td>\n",
       "      <td>30.653101</td>\n",
       "    </tr>\n",
       "  </tbody>\n",
       "</table>\n",
       "</div>"
      ],
      "text/plain": [
       "                      A1-Pensilvania 33 kV  A2- Bolivia 33 kV  \\\n",
       "PF Type Power factor                                            \n",
       "cap     0.90                     30.961220          30.913912   \n",
       "        0.91                     30.983332          30.934698   \n",
       "        0.92                     31.003791          30.953853   \n",
       "        0.93                     31.023065          30.971853   \n",
       "        0.94                     31.041529          30.989070   \n",
       "\n",
       "                      A3 -Florencia 33 kV  Caso Base  \n",
       "PF Type Power factor                                  \n",
       "cap     0.90                    31.085785  30.653101  \n",
       "        0.91                    31.103201  30.653101  \n",
       "        0.92                    31.119856  30.653101  \n",
       "        0.93                    31.135961  30.653101  \n",
       "        0.94                    31.151720  30.653101  "
      ]
     },
     "execution_count": 13,
     "metadata": {},
     "output_type": "execute_result"
    }
   ],
   "source": [
    "result.head()"
   ]
  },
  {
   "cell_type": "code",
   "execution_count": 14,
   "metadata": {},
   "outputs": [],
   "source": [
    "result.to_excel(\"Downloads/prueba/resultado.xlsx\")"
   ]
  },
  {
   "cell_type": "code",
   "execution_count": 15,
   "metadata": {},
   "outputs": [],
   "source": [
    "import numpy as np\n",
    "import matplotlib.pyplot as plt"
   ]
  },
  {
   "cell_type": "code",
   "execution_count": 16,
   "metadata": {},
   "outputs": [],
   "source": [
    "group_data = group_data.reset_index()\n",
    "group_data[\"Power factor\"] = np.where(group_data[\"PF Type\"] == \"ind\", -group_data[\"Power factor\"],group_data[\"Power factor\"])"
   ]
  },
  {
   "cell_type": "code",
   "execution_count": 17,
   "metadata": {},
   "outputs": [],
   "source": [
    "graphic_data = group_data[[\"Variation\", \"Power factor\", \"Value\"]]\n"
   ]
  },
  {
   "cell_type": "code",
   "execution_count": 18,
   "metadata": {},
   "outputs": [
    {
     "name": "stdout",
     "output_type": "stream",
     "text": [
      "A1-Pensilvania 33 kV\n",
      "A2- Bolivia 33 kV\n",
      "A3 -Florencia 33 kV\n",
      "Caso Base\n"
     ]
    },
    {
     "data": {
      "image/png": "[encoded data removed]",
      "text/plain": [
       "<Figure size 432x288 with 1 Axes>"
      ]
     },
     "metadata": {
      "needs_background": "light"
     },
     "output_type": "display_data"
    }
   ],
   "source": [
    "for key in distinct_variations:\n",
    "    fila = graphic_data[graphic_data[\"Variation\"] == key]\n",
    "    x = fila[\"Power factor\"].to_numpy()\n",
    "    y = fila[\"Value\"].to_numpy()\n",
    "    plt.plot(x, y)\n",
    "    print(key)\n",
    "plt.legend(distinct_variations)\n",
    "plt.show()"
   ]
  },
  {
   "cell_type": "code",
   "execution_count": null,
   "metadata": {},
   "outputs": [],
   "source": []
  },
  {
   "cell_type": "code",
   "execution_count": null,
   "metadata": {},
   "outputs": [],
   "source": []
  },
  {
   "cell_type": "code",
   "execution_count": null,
   "metadata": {},
   "outputs": [],
   "source": []
  },
  {
   "cell_type": "code",
   "execution_count": null,
   "metadata": {},
   "outputs": [],
   "source": []
  },
  {
   "cell_type": "code",
   "execution_count": null,
   "metadata": {},
   "outputs": [],
   "source": []
  },
  {
   "cell_type": "code",
   "execution_count": null,
   "metadata": {},
   "outputs": [],
   "source": []
  },
  {
   "cell_type": "code",
   "execution_count": null,
   "metadata": {},
   "outputs": [],
   "source": []
  },
  {
   "cell_type": "code",
   "execution_count": null,
   "metadata": {},
   "outputs": [],
   "source": []
  },
  {
   "cell_type": "code",
   "execution_count": null,
   "metadata": {},
   "outputs": [],
   "source": []
  },
  {
   "cell_type": "code",
   "execution_count": null,
   "metadata": {},
   "outputs": [],
   "source": []
  },
  {
   "cell_type": "code",
   "execution_count": null,
   "metadata": {},
   "outputs": [],
   "source": []
  },
  {
   "cell_type": "code",
   "execution_count": null,
   "metadata": {},
   "outputs": [],
   "source": []
  },
  {
   "cell_type": "code",
   "execution_count": null,
   "metadata": {},
   "outputs": [],
   "source": []
  },
  {
   "cell_type": "code",
   "execution_count": null,
   "metadata": {},
   "outputs": [],
   "source": []
  },
  {
   "cell_type": "code",
   "execution_count": null,
   "metadata": {},
   "outputs": [],
   "source": []
  },
  {
   "cell_type": "code",
   "execution_count": null,
   "metadata": {},
   "outputs": [],
   "source": []
  },
  {
   "cell_type": "code",
   "execution_count": null,
   "metadata": {},
   "outputs": [],
   "source": []
  },
  {
   "cell_type": "code",
   "execution_count": null,
   "metadata": {},
   "outputs": [],
   "source": []
  },
  {
   "cell_type": "code",
   "execution_count": null,
   "metadata": {},
   "outputs": [],
   "source": []
  },
  {
   "cell_type": "code",
   "execution_count": null,
   "metadata": {},
   "outputs": [],
   "source": []
  },
  {
   "cell_type": "code",
   "execution_count": null,
   "metadata": {},
   "outputs": [],
   "source": []
  },
  {
   "cell_type": "code",
   "execution_count": null,
   "metadata": {},
   "outputs": [],
   "source": []
  },
  {
   "cell_type": "code",
   "execution_count": null,
   "metadata": {},
   "outputs": [],
   "source": []
  },
  {
   "cell_type": "code",
   "execution_count": null,
   "metadata": {},
   "outputs": [],
   "source": []
  },
  {
   "cell_type": "code",
   "execution_count": null,
   "metadata": {},
   "outputs": [],
   "source": []
  },
  {
   "cell_type": "code",
   "execution_count": null,
   "metadata": {},
   "outputs": [],
   "source": []
  }
 ],
 "metadata": {
  "kernelspec": {
   "display_name": "Python 3",
   "language": "python",
   "name": "python3"
  },
  "language_info": {
   "codemirror_mode": {
    "name": "ipython",
    "version": 3
   },
   "file_extension": ".py",
   "mimetype": "text/x-python",
   "name": "python",
   "nbconvert_exporter": "python",
   "pygments_lexer": "ipython3",
   "version": "3.8.5"
  }
 },
 "nbformat": 4,
 "nbformat_minor": 4
}
