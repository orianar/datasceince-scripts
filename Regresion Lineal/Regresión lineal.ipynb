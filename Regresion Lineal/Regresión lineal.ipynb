{
 "cells": [
  {
   "cell_type": "markdown",
   "metadata": {},
   "source": [
    "## Regresion lineal  "
   ]
  },
  {
   "cell_type": "code",
   "execution_count": 1,
   "metadata": {},
   "outputs": [],
   "source": [
    "### Modelo con datos simulados \n",
    "# y = a + b*x\n",
    "# x: 100 valores distribuidos segun un N(1.5, 2.5)\n",
    "# Y= 2 + 0.3* X + e\n",
    "# e : estara distribuido segun una N(0, 0.8)\n"
   ]
  },
  {
   "cell_type": "code",
   "execution_count": 2,
   "metadata": {},
   "outputs": [],
   "source": [
    "import pandas as pd\n",
    "import numpy as np"
   ]
  },
  {
   "cell_type": "code",
   "execution_count": 3,
   "metadata": {},
   "outputs": [],
   "source": [
    "x = 1.5 + 2.5 * np.random.randn(100)\n",
    "res = 0 + 0.8* np.random.randn(100)"
   ]
  },
  {
   "cell_type": "code",
   "execution_count": 4,
   "metadata": {},
   "outputs": [],
   "source": [
    "y_pred1= 2 + 0.3* x\n",
    "y_actual1= 2 + 0.3* x + res"
   ]
  },
  {
   "cell_type": "code",
   "execution_count": 5,
   "metadata": {},
   "outputs": [],
   "source": [
    "x_list = x.tolist()\n",
    "y_pred_list= y_pred1.tolist()\n",
    "y_actual_list = y_actual1.tolist()"
   ]
  },
  {
   "cell_type": "code",
   "execution_count": 6,
   "metadata": {},
   "outputs": [],
   "source": [
    "data= pd.DataFrame (\n",
    "    {\n",
    "        \"x\": x_list,\n",
    "        \"y_pred\": y_pred_list,\n",
    "        \"y_actual\": y_actual_list,\n",
    "    }\n",
    ")"
   ]
  },
  {
   "cell_type": "code",
   "execution_count": 7,
   "metadata": {},
   "outputs": [
    {
     "data": {
      "text/html": [
       "<div>\n",
       "<style scoped>\n",
       "    .dataframe tbody tr th:only-of-type {\n",
       "        vertical-align: middle;\n",
       "    }\n",
       "\n",
       "    .dataframe tbody tr th {\n",
       "        vertical-align: top;\n",
       "    }\n",
       "\n",
       "    .dataframe thead th {\n",
       "        text-align: right;\n",
       "    }\n",
       "</style>\n",
       "<table border=\"1\" class=\"dataframe\">\n",
       "  <thead>\n",
       "    <tr style=\"text-align: right;\">\n",
       "      <th></th>\n",
       "      <th>x</th>\n",
       "      <th>y_pred</th>\n",
       "      <th>y_actual</th>\n",
       "    </tr>\n",
       "  </thead>\n",
       "  <tbody>\n",
       "    <tr>\n",
       "      <th>0</th>\n",
       "      <td>-0.516126</td>\n",
       "      <td>1.845162</td>\n",
       "      <td>3.783850</td>\n",
       "    </tr>\n",
       "    <tr>\n",
       "      <th>1</th>\n",
       "      <td>-0.911943</td>\n",
       "      <td>1.726417</td>\n",
       "      <td>1.617241</td>\n",
       "    </tr>\n",
       "    <tr>\n",
       "      <th>2</th>\n",
       "      <td>1.311580</td>\n",
       "      <td>2.393474</td>\n",
       "      <td>1.040901</td>\n",
       "    </tr>\n",
       "    <tr>\n",
       "      <th>3</th>\n",
       "      <td>2.961042</td>\n",
       "      <td>2.888313</td>\n",
       "      <td>3.162449</td>\n",
       "    </tr>\n",
       "    <tr>\n",
       "      <th>4</th>\n",
       "      <td>0.528634</td>\n",
       "      <td>2.158590</td>\n",
       "      <td>2.655660</td>\n",
       "    </tr>\n",
       "  </tbody>\n",
       "</table>\n",
       "</div>"
      ],
      "text/plain": [
       "          x    y_pred  y_actual\n",
       "0 -0.516126  1.845162  3.783850\n",
       "1 -0.911943  1.726417  1.617241\n",
       "2  1.311580  2.393474  1.040901\n",
       "3  2.961042  2.888313  3.162449\n",
       "4  0.528634  2.158590  2.655660"
      ]
     },
     "execution_count": 7,
     "metadata": {},
     "output_type": "execute_result"
    }
   ],
   "source": [
    "data.head()"
   ]
  },
  {
   "cell_type": "code",
   "execution_count": 8,
   "metadata": {},
   "outputs": [],
   "source": [
    "import matplotlib.pyplot as plt"
   ]
  },
  {
   "cell_type": "code",
   "execution_count": 9,
   "metadata": {},
   "outputs": [
    {
     "data": {
      "text/plain": [
       "Text(0.5, 1.0, ' Valor actual vs prediccion')"
      ]
     },
     "execution_count": 9,
     "metadata": {},
     "output_type": "execute_result"
    },
    {
     "data": {
      "image/png": "[encoded data removed]",
      "text/plain": [
       "<Figure size 432x288 with 1 Axes>"
      ]
     },
     "metadata": {
      "needs_background": "light"
     },
     "output_type": "display_data"
    }
   ],
   "source": [
    "y_mean = [np.mean(y_actual1) for i in range(1, len(x_list)+1)]\n",
    "%matplotlib inline\n",
    "plt.plot(x, y_pred1)\n",
    "plt.plot(x, y_mean, \"go\")\n",
    "plt.plot(x, y_actual1, \"ro\")\n",
    "plt.title( \" Valor actual vs prediccion\")\n"
   ]
  },
  {
   "cell_type": "code",
   "execution_count": 10,
   "metadata": {},
   "outputs": [],
   "source": [
    "data[\"ssr\"]= (data[\"y_pred\"]- np.mean(y_actual1))**2\n",
    "data[\"SSD\"]= (data[\"y_pred\"]- data[\"y_actual\"])**2\n",
    "data[\"SST\"]= (data[\"y_actual\"]- np.mean(y_actual1))**2"
   ]
  },
  {
   "cell_type": "code",
   "execution_count": 11,
   "metadata": {},
   "outputs": [
    {
     "data": {
      "text/html": [
       "<div>\n",
       "<style scoped>\n",
       "    .dataframe tbody tr th:only-of-type {\n",
       "        vertical-align: middle;\n",
       "    }\n",
       "\n",
       "    .dataframe tbody tr th {\n",
       "        vertical-align: top;\n",
       "    }\n",
       "\n",
       "    .dataframe thead th {\n",
       "        text-align: right;\n",
       "    }\n",
       "</style>\n",
       "<table border=\"1\" class=\"dataframe\">\n",
       "  <thead>\n",
       "    <tr style=\"text-align: right;\">\n",
       "      <th></th>\n",
       "      <th>x</th>\n",
       "      <th>y_pred</th>\n",
       "      <th>y_actual</th>\n",
       "      <th>ssr</th>\n",
       "      <th>SSD</th>\n",
       "      <th>SST</th>\n",
       "    </tr>\n",
       "  </thead>\n",
       "  <tbody>\n",
       "    <tr>\n",
       "      <th>0</th>\n",
       "      <td>-0.516126</td>\n",
       "      <td>1.845162</td>\n",
       "      <td>3.783850</td>\n",
       "      <td>0.275974</td>\n",
       "      <td>3.758512</td>\n",
       "      <td>1.997576</td>\n",
       "    </tr>\n",
       "    <tr>\n",
       "      <th>1</th>\n",
       "      <td>-0.911943</td>\n",
       "      <td>1.726417</td>\n",
       "      <td>1.617241</td>\n",
       "      <td>0.414835</td>\n",
       "      <td>0.011919</td>\n",
       "      <td>0.567391</td>\n",
       "    </tr>\n",
       "    <tr>\n",
       "      <th>2</th>\n",
       "      <td>1.311580</td>\n",
       "      <td>2.393474</td>\n",
       "      <td>1.040901</td>\n",
       "      <td>0.000528</td>\n",
       "      <td>1.829455</td>\n",
       "      <td>1.767819</td>\n",
       "    </tr>\n",
       "    <tr>\n",
       "      <th>3</th>\n",
       "      <td>2.961042</td>\n",
       "      <td>2.888313</td>\n",
       "      <td>3.162449</td>\n",
       "      <td>0.268136</td>\n",
       "      <td>0.075151</td>\n",
       "      <td>0.627193</td>\n",
       "    </tr>\n",
       "    <tr>\n",
       "      <th>4</th>\n",
       "      <td>0.528634</td>\n",
       "      <td>2.158590</td>\n",
       "      <td>2.655660</td>\n",
       "      <td>0.044903</td>\n",
       "      <td>0.247078</td>\n",
       "      <td>0.081319</td>\n",
       "    </tr>\n",
       "  </tbody>\n",
       "</table>\n",
       "</div>"
      ],
      "text/plain": [
       "          x    y_pred  y_actual       ssr       SSD       SST\n",
       "0 -0.516126  1.845162  3.783850  0.275974  3.758512  1.997576\n",
       "1 -0.911943  1.726417  1.617241  0.414835  0.011919  0.567391\n",
       "2  1.311580  2.393474  1.040901  0.000528  1.829455  1.767819\n",
       "3  2.961042  2.888313  3.162449  0.268136  0.075151  0.627193\n",
       "4  0.528634  2.158590  2.655660  0.044903  0.247078  0.081319"
      ]
     },
     "execution_count": 11,
     "metadata": {},
     "output_type": "execute_result"
    }
   ],
   "source": [
    "data.head()"
   ]
  },
  {
   "cell_type": "code",
   "execution_count": 12,
   "metadata": {},
   "outputs": [],
   "source": [
    "SSR= sum(data[\"ssr\"])\n",
    "SSD= sum(data[\"SSD\"])\n",
    "SST= sum(data[\"SST\"])"
   ]
  },
  {
   "cell_type": "code",
   "execution_count": 13,
   "metadata": {},
   "outputs": [
    {
     "data": {
      "text/plain": [
       "62.5609155778156"
      ]
     },
     "execution_count": 13,
     "metadata": {},
     "output_type": "execute_result"
    }
   ],
   "source": [
    "SSR"
   ]
  },
  {
   "cell_type": "code",
   "execution_count": 14,
   "metadata": {},
   "outputs": [
    {
     "data": {
      "text/plain": [
       "69.75720024839319"
      ]
     },
     "execution_count": 14,
     "metadata": {},
     "output_type": "execute_result"
    }
   ],
   "source": [
    "SSD"
   ]
  },
  {
   "cell_type": "code",
   "execution_count": 15,
   "metadata": {},
   "outputs": [
    {
     "data": {
      "text/plain": [
       "130.7677778139857"
      ]
     },
     "execution_count": 15,
     "metadata": {},
     "output_type": "execute_result"
    }
   ],
   "source": [
    "SST"
   ]
  },
  {
   "cell_type": "code",
   "execution_count": 16,
   "metadata": {},
   "outputs": [],
   "source": [
    "R2=SSR/SST"
   ]
  },
  {
   "cell_type": "code",
   "execution_count": 17,
   "metadata": {},
   "outputs": [
    {
     "data": {
      "text/plain": [
       "0.47841231703736015"
      ]
     },
     "execution_count": 17,
     "metadata": {},
     "output_type": "execute_result"
    }
   ],
   "source": [
    "R2"
   ]
  },
  {
   "cell_type": "code",
   "execution_count": 18,
   "metadata": {},
   "outputs": [
    {
     "data": {
      "text/plain": [
       "(array([ 6.,  4., 12., 16., 17., 22., 10.,  7.,  4.,  2.]),\n",
       " array([-1.93868821, -1.5305094 , -1.12233059, -0.71415178, -0.30597297,\n",
       "         0.10220584,  0.51038465,  0.91856346,  1.32674227,  1.73492108,\n",
       "         2.1430999 ]),\n",
       " <BarContainer object of 10 artists>)"
      ]
     },
     "execution_count": 18,
     "metadata": {},
     "output_type": "execute_result"
    },
    {
     "data": {
      "image/png": "[encoded data removed]",
      "text/plain": [
       "<Figure size 432x288 with 1 Axes>"
      ]
     },
     "metadata": {
      "needs_background": "light"
     },
     "output_type": "display_data"
    }
   ],
   "source": [
    "plt.hist(data[\"y_pred\"]- data[\"y_actual\"])"
   ]
  },
  {
   "cell_type": "markdown",
   "metadata": {},
   "source": [
    " ### Obtener la recta de regresion"
   ]
  },
  {
   "cell_type": "code",
   "execution_count": 19,
   "metadata": {},
   "outputs": [],
   "source": [
    "# y = a + b*x\n",
    "# b = sum((xi-x_m)*(yi-y_m))/sum(xi-x_m)^2)\n",
    "# a = y_m-b*x_m\n"
   ]
  },
  {
   "cell_type": "code",
   "execution_count": 20,
   "metadata": {},
   "outputs": [],
   "source": [
    "x_mean = np.mean(data[\"x\"])\n",
    "y_mean = np.mean(data[\"y_actual\"])"
   ]
  },
  {
   "cell_type": "code",
   "execution_count": 21,
   "metadata": {},
   "outputs": [],
   "source": [
    "data[\"Cov\"]= (data[\"x\"]-x_mean)*(data[\"y_actual\"]-y_mean)\n",
    "data[\"b_d\"]=(data[\"x\"]-x_mean)**2"
   ]
  },
  {
   "cell_type": "code",
   "execution_count": 22,
   "metadata": {},
   "outputs": [],
   "source": [
    "b= sum(data[\"Cov\"])/sum(data[\"b_d\"])"
   ]
  },
  {
   "cell_type": "code",
   "execution_count": 23,
   "metadata": {},
   "outputs": [
    {
     "data": {
      "text/plain": [
       "0.29696382299782037"
      ]
     },
     "execution_count": 23,
     "metadata": {},
     "output_type": "execute_result"
    }
   ],
   "source": [
    "b"
   ]
  },
  {
   "cell_type": "code",
   "execution_count": 24,
   "metadata": {},
   "outputs": [],
   "source": [
    "alpha= y_mean-b*x_mean"
   ]
  },
  {
   "cell_type": "code",
   "execution_count": 25,
   "metadata": {},
   "outputs": [
    {
     "data": {
      "text/plain": [
       "(2.041243399596715, 0.29696382299782037)"
      ]
     },
     "execution_count": 25,
     "metadata": {},
     "output_type": "execute_result"
    }
   ],
   "source": [
    "alpha,b"
   ]
  },
  {
   "cell_type": "code",
   "execution_count": 26,
   "metadata": {},
   "outputs": [],
   "source": [
    "data[\"y_model\"]= alpha + b*data[\"x\"]"
   ]
  },
  {
   "cell_type": "code",
   "execution_count": 27,
   "metadata": {},
   "outputs": [
    {
     "data": {
      "text/html": [
       "<div>\n",
       "<style scoped>\n",
       "    .dataframe tbody tr th:only-of-type {\n",
       "        vertical-align: middle;\n",
       "    }\n",
       "\n",
       "    .dataframe tbody tr th {\n",
       "        vertical-align: top;\n",
       "    }\n",
       "\n",
       "    .dataframe thead th {\n",
       "        text-align: right;\n",
       "    }\n",
       "</style>\n",
       "<table border=\"1\" class=\"dataframe\">\n",
       "  <thead>\n",
       "    <tr style=\"text-align: right;\">\n",
       "      <th></th>\n",
       "      <th>x</th>\n",
       "      <th>y_pred</th>\n",
       "      <th>y_actual</th>\n",
       "      <th>ssr</th>\n",
       "      <th>SSD</th>\n",
       "      <th>SST</th>\n",
       "      <th>Cov</th>\n",
       "      <th>b_d</th>\n",
       "      <th>y_model</th>\n",
       "    </tr>\n",
       "  </thead>\n",
       "  <tbody>\n",
       "    <tr>\n",
       "      <th>0</th>\n",
       "      <td>-0.516126</td>\n",
       "      <td>1.845162</td>\n",
       "      <td>3.783850</td>\n",
       "      <td>0.275974</td>\n",
       "      <td>3.758512</td>\n",
       "      <td>1.997576</td>\n",
       "      <td>-2.296492</td>\n",
       "      <td>2.640137</td>\n",
       "      <td>1.887973</td>\n",
       "    </tr>\n",
       "    <tr>\n",
       "      <th>1</th>\n",
       "      <td>-0.911943</td>\n",
       "      <td>1.726417</td>\n",
       "      <td>1.617241</td>\n",
       "      <td>0.414835</td>\n",
       "      <td>0.011919</td>\n",
       "      <td>0.567391</td>\n",
       "      <td>1.522075</td>\n",
       "      <td>4.083094</td>\n",
       "      <td>1.770429</td>\n",
       "    </tr>\n",
       "    <tr>\n",
       "      <th>2</th>\n",
       "      <td>1.311580</td>\n",
       "      <td>2.393474</td>\n",
       "      <td>1.040901</td>\n",
       "      <td>0.000528</td>\n",
       "      <td>1.829455</td>\n",
       "      <td>1.767819</td>\n",
       "      <td>-0.269717</td>\n",
       "      <td>0.041151</td>\n",
       "      <td>2.430735</td>\n",
       "    </tr>\n",
       "    <tr>\n",
       "      <th>3</th>\n",
       "      <td>2.961042</td>\n",
       "      <td>2.888313</td>\n",
       "      <td>3.162449</td>\n",
       "      <td>0.268136</td>\n",
       "      <td>0.075151</td>\n",
       "      <td>0.627193</td>\n",
       "      <td>1.466953</td>\n",
       "      <td>3.431084</td>\n",
       "      <td>2.920566</td>\n",
       "    </tr>\n",
       "    <tr>\n",
       "      <th>4</th>\n",
       "      <td>0.528634</td>\n",
       "      <td>2.158590</td>\n",
       "      <td>2.655660</td>\n",
       "      <td>0.044903</td>\n",
       "      <td>0.247078</td>\n",
       "      <td>0.081319</td>\n",
       "      <td>-0.165422</td>\n",
       "      <td>0.336505</td>\n",
       "      <td>2.198228</td>\n",
       "    </tr>\n",
       "  </tbody>\n",
       "</table>\n",
       "</div>"
      ],
      "text/plain": [
       "          x    y_pred  y_actual       ssr       SSD       SST       Cov  \\\n",
       "0 -0.516126  1.845162  3.783850  0.275974  3.758512  1.997576 -2.296492   \n",
       "1 -0.911943  1.726417  1.617241  0.414835  0.011919  0.567391  1.522075   \n",
       "2  1.311580  2.393474  1.040901  0.000528  1.829455  1.767819 -0.269717   \n",
       "3  2.961042  2.888313  3.162449  0.268136  0.075151  0.627193  1.466953   \n",
       "4  0.528634  2.158590  2.655660  0.044903  0.247078  0.081319 -0.165422   \n",
       "\n",
       "        b_d   y_model  \n",
       "0  2.640137  1.887973  \n",
       "1  4.083094  1.770429  \n",
       "2  0.041151  2.430735  \n",
       "3  3.431084  2.920566  \n",
       "4  0.336505  2.198228  "
      ]
     },
     "execution_count": 27,
     "metadata": {},
     "output_type": "execute_result"
    }
   ],
   "source": [
    "data.head()"
   ]
  },
  {
   "cell_type": "code",
   "execution_count": 28,
   "metadata": {},
   "outputs": [],
   "source": [
    "SSR= sum((data[\"y_model\"]- np.mean(y_actual1))**2)\n",
    "SSD= sum((data[\"y_model\"]- data[\"y_actual\"])**2)\n",
    "SST= sum((data[\"y_actual\"]- np.mean(y_actual1))**2)"
   ]
  },
  {
   "cell_type": "code",
   "execution_count": 29,
   "metadata": {},
   "outputs": [
    {
     "data": {
      "text/plain": [
       "(61.16043836235908, 69.60733945162669, 130.7677778139857)"
      ]
     },
     "execution_count": 29,
     "metadata": {},
     "output_type": "execute_result"
    }
   ],
   "source": [
    "SSR, SSD, SST"
   ]
  },
  {
   "cell_type": "code",
   "execution_count": 30,
   "metadata": {},
   "outputs": [],
   "source": [
    "R2 = SSR /SST"
   ]
  },
  {
   "cell_type": "code",
   "execution_count": 31,
   "metadata": {},
   "outputs": [
    {
     "data": {
      "text/plain": [
       "0.4677026663965986"
      ]
     },
     "execution_count": 31,
     "metadata": {},
     "output_type": "execute_result"
    }
   ],
   "source": [
    "R2"
   ]
  },
  {
   "cell_type": "code",
   "execution_count": 35,
   "metadata": {},
   "outputs": [
    {
     "data": {
      "text/plain": [
       "Text(0.5, 1.0, ' Valor actual vs prediccion')"
      ]
     },
     "execution_count": 35,
     "metadata": {},
     "output_type": "execute_result"
    },
    {
     "data": {
      "image/png": "[encoded data removed]",
      "text/plain": [
       "<Figure size 432x288 with 1 Axes>"
      ]
     },
     "metadata": {
      "needs_background": "light"
     },
     "output_type": "display_data"
    }
   ],
   "source": [
    "y_mean = [np.mean(y_actual1) for i in range(1, len(x_list)+1)]\n",
    "%matplotlib inline\n",
    "plt.plot(x, y_pred1)\n",
    "plt.plot(x, y_mean, \"go\")\n",
    "plt.plot(x, y_actual1, \"ro\")\n",
    "plt.plot(x, data[\"y_model\"], \"y\")\n",
    "plt.title( \" Valor actual vs prediccion\")"
   ]
  },
  {
   "cell_type": "markdown",
   "metadata": {},
   "source": [
    "### Error estandar de los residuos (RSE)"
   ]
  },
  {
   "cell_type": "code",
   "execution_count": 37,
   "metadata": {},
   "outputs": [],
   "source": [
    "RSE= np.sqrt(SSD/(len(data)-2))"
   ]
  },
  {
   "cell_type": "code",
   "execution_count": 38,
   "metadata": {},
   "outputs": [
    {
     "data": {
      "text/plain": [
       "0.8427805016706252"
      ]
     },
     "execution_count": 38,
     "metadata": {},
     "output_type": "execute_result"
    }
   ],
   "source": [
    "RSE"
   ]
  },
  {
   "cell_type": "code",
   "execution_count": null,
   "metadata": {},
   "outputs": [],
   "source": []
  },
  {
   "cell_type": "code",
   "execution_count": null,
   "metadata": {},
   "outputs": [],
   "source": []
  },
  {
   "cell_type": "code",
   "execution_count": null,
   "metadata": {},
   "outputs": [],
   "source": []
  },
  {
   "cell_type": "code",
   "execution_count": null,
   "metadata": {},
   "outputs": [],
   "source": []
  },
  {
   "cell_type": "code",
   "execution_count": null,
   "metadata": {},
   "outputs": [],
   "source": []
  },
  {
   "cell_type": "code",
   "execution_count": null,
   "metadata": {},
   "outputs": [],
   "source": []
  },
  {
   "cell_type": "code",
   "execution_count": null,
   "metadata": {},
   "outputs": [],
   "source": []
  },
  {
   "cell_type": "code",
   "execution_count": null,
   "metadata": {},
   "outputs": [],
   "source": []
  },
  {
   "cell_type": "code",
   "execution_count": null,
   "metadata": {},
   "outputs": [],
   "source": []
  },
  {
   "cell_type": "code",
   "execution_count": null,
   "metadata": {},
   "outputs": [],
   "source": []
  },
  {
   "cell_type": "code",
   "execution_count": null,
   "metadata": {},
   "outputs": [],
   "source": []
  },
  {
   "cell_type": "code",
   "execution_count": null,
   "metadata": {},
   "outputs": [],
   "source": []
  },
  {
   "cell_type": "code",
   "execution_count": null,
   "metadata": {},
   "outputs": [],
   "source": []
  },
  {
   "cell_type": "code",
   "execution_count": null,
   "metadata": {},
   "outputs": [],
   "source": []
  },
  {
   "cell_type": "code",
   "execution_count": null,
   "metadata": {},
   "outputs": [],
   "source": []
  },
  {
   "cell_type": "code",
   "execution_count": null,
   "metadata": {},
   "outputs": [],
   "source": []
  },
  {
   "cell_type": "code",
   "execution_count": null,
   "metadata": {},
   "outputs": [],
   "source": []
  }
 ],
 "metadata": {
  "kernelspec": {
   "display_name": "Python 3",
   "language": "python",
   "name": "python3"
  },
  "language_info": {
   "codemirror_mode": {
    "name": "ipython",
    "version": 3
   },
   "file_extension": ".py",
   "mimetype": "text/x-python",
   "name": "python",
   "nbconvert_exporter": "python",
   "pygments_lexer": "ipython3",
   "version": "3.8.5"
  }
 },
 "nbformat": 4,
 "nbformat_minor": 4
}
