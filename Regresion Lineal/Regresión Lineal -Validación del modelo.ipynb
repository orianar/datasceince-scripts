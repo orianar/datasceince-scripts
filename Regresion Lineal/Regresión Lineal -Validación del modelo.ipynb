{
 "cells": [
  {
   "cell_type": "markdown",
   "metadata": {},
   "source": [
    "### Dividir el dataset en conjunto de entrenamiento y testing"
   ]
  },
  {
   "cell_type": "code",
   "execution_count": 1,
   "metadata": {},
   "outputs": [],
   "source": [
    "import pandas as pd\n",
    "import numpy as np\n",
    "import matplotlib.pyplot as plt"
   ]
  },
  {
   "cell_type": "code",
   "execution_count": 2,
   "metadata": {},
   "outputs": [],
   "source": [
    "data = pd.read_csv(\"Hola/python-ml-course-master/datasets/ads/Advertising.csv\")"
   ]
  },
  {
   "cell_type": "code",
   "execution_count": 3,
   "metadata": {},
   "outputs": [
    {
     "data": {
      "text/html": [
       "<div>\n",
       "<style scoped>\n",
       "    .dataframe tbody tr th:only-of-type {\n",
       "        vertical-align: middle;\n",
       "    }\n",
       "\n",
       "    .dataframe tbody tr th {\n",
       "        vertical-align: top;\n",
       "    }\n",
       "\n",
       "    .dataframe thead th {\n",
       "        text-align: right;\n",
       "    }\n",
       "</style>\n",
       "<table border=\"1\" class=\"dataframe\">\n",
       "  <thead>\n",
       "    <tr style=\"text-align: right;\">\n",
       "      <th></th>\n",
       "      <th>TV</th>\n",
       "      <th>Radio</th>\n",
       "      <th>Newspaper</th>\n",
       "      <th>Sales</th>\n",
       "    </tr>\n",
       "  </thead>\n",
       "  <tbody>\n",
       "    <tr>\n",
       "      <th>0</th>\n",
       "      <td>230.1</td>\n",
       "      <td>37.8</td>\n",
       "      <td>69.2</td>\n",
       "      <td>22.1</td>\n",
       "    </tr>\n",
       "    <tr>\n",
       "      <th>1</th>\n",
       "      <td>44.5</td>\n",
       "      <td>39.3</td>\n",
       "      <td>45.1</td>\n",
       "      <td>10.4</td>\n",
       "    </tr>\n",
       "    <tr>\n",
       "      <th>2</th>\n",
       "      <td>17.2</td>\n",
       "      <td>45.9</td>\n",
       "      <td>69.3</td>\n",
       "      <td>9.3</td>\n",
       "    </tr>\n",
       "    <tr>\n",
       "      <th>3</th>\n",
       "      <td>151.5</td>\n",
       "      <td>41.3</td>\n",
       "      <td>58.5</td>\n",
       "      <td>18.5</td>\n",
       "    </tr>\n",
       "    <tr>\n",
       "      <th>4</th>\n",
       "      <td>180.8</td>\n",
       "      <td>10.8</td>\n",
       "      <td>58.4</td>\n",
       "      <td>12.9</td>\n",
       "    </tr>\n",
       "    <tr>\n",
       "      <th>...</th>\n",
       "      <td>...</td>\n",
       "      <td>...</td>\n",
       "      <td>...</td>\n",
       "      <td>...</td>\n",
       "    </tr>\n",
       "    <tr>\n",
       "      <th>195</th>\n",
       "      <td>38.2</td>\n",
       "      <td>3.7</td>\n",
       "      <td>13.8</td>\n",
       "      <td>7.6</td>\n",
       "    </tr>\n",
       "    <tr>\n",
       "      <th>196</th>\n",
       "      <td>94.2</td>\n",
       "      <td>4.9</td>\n",
       "      <td>8.1</td>\n",
       "      <td>9.7</td>\n",
       "    </tr>\n",
       "    <tr>\n",
       "      <th>197</th>\n",
       "      <td>177.0</td>\n",
       "      <td>9.3</td>\n",
       "      <td>6.4</td>\n",
       "      <td>12.8</td>\n",
       "    </tr>\n",
       "    <tr>\n",
       "      <th>198</th>\n",
       "      <td>283.6</td>\n",
       "      <td>42.0</td>\n",
       "      <td>66.2</td>\n",
       "      <td>25.5</td>\n",
       "    </tr>\n",
       "    <tr>\n",
       "      <th>199</th>\n",
       "      <td>232.1</td>\n",
       "      <td>8.6</td>\n",
       "      <td>8.7</td>\n",
       "      <td>13.4</td>\n",
       "    </tr>\n",
       "  </tbody>\n",
       "</table>\n",
       "<p>200 rows × 4 columns</p>\n",
       "</div>"
      ],
      "text/plain": [
       "        TV  Radio  Newspaper  Sales\n",
       "0    230.1   37.8       69.2   22.1\n",
       "1     44.5   39.3       45.1   10.4\n",
       "2     17.2   45.9       69.3    9.3\n",
       "3    151.5   41.3       58.5   18.5\n",
       "4    180.8   10.8       58.4   12.9\n",
       "..     ...    ...        ...    ...\n",
       "195   38.2    3.7       13.8    7.6\n",
       "196   94.2    4.9        8.1    9.7\n",
       "197  177.0    9.3        6.4   12.8\n",
       "198  283.6   42.0       66.2   25.5\n",
       "199  232.1    8.6        8.7   13.4\n",
       "\n",
       "[200 rows x 4 columns]"
      ]
     },
     "execution_count": 3,
     "metadata": {},
     "output_type": "execute_result"
    }
   ],
   "source": [
    "data"
   ]
  },
  {
   "cell_type": "code",
   "execution_count": 4,
   "metadata": {},
   "outputs": [],
   "source": [
    "a= np.random.randn(len(data))"
   ]
  },
  {
   "cell_type": "code",
   "execution_count": 5,
   "metadata": {},
   "outputs": [
    {
     "data": {
      "text/plain": [
       "array([-1.05594347, -1.2338082 ,  0.11987236, -0.05081344,  0.57518543,\n",
       "        0.65543613,  1.33342997, -0.29507248, -1.30651687, -1.06694785,\n",
       "       -0.83842536,  0.35826176,  2.0344725 , -0.43388095, -0.4275492 ,\n",
       "        1.30439461,  0.51279723,  1.46874573, -2.04122405,  0.2649859 ,\n",
       "       -0.69430082, -1.26026605,  0.69754453, -1.0290913 , -0.53541699,\n",
       "        0.57408893, -0.28083819,  0.29216858, -0.40241393, -1.17362858,\n",
       "        0.54637948,  0.69922532, -0.30284468,  0.68184879,  0.02314096,\n",
       "       -0.2347313 ,  0.0651678 , -3.03760629,  0.06755022, -0.44777418,\n",
       "        1.58790057,  0.21323858,  0.04183647, -1.70305513, -0.24520367,\n",
       "        1.34778617,  0.99961837,  1.5373707 ,  1.23388267, -0.63526864,\n",
       "       -0.36714995,  0.01879906, -0.06567896, -0.24193649, -1.24161114,\n",
       "       -0.13138009, -2.4004796 ,  0.89467089,  1.27499219, -1.03598684,\n",
       "        0.35037721, -0.03284762, -0.99903485,  0.44718189,  0.04244123,\n",
       "        0.53793045,  1.22974186,  0.59113471,  1.25793276, -0.27311041,\n",
       "        0.35865062,  0.05258124, -2.0780558 , -0.36004937,  0.31240584,\n",
       "       -0.20007749,  2.00716866, -2.30023007,  0.75795966,  0.57854676,\n",
       "       -1.04846718,  1.63041593,  0.19553109,  1.09681661,  1.25672911,\n",
       "       -0.11591329, -1.95172793, -0.93062686, -0.26474717, -0.89656441,\n",
       "       -0.29298208, -0.77758837,  0.59515093, -0.41694265,  1.75071112,\n",
       "       -0.64685789,  2.05268542, -1.00784348,  0.45903741, -0.45278856,\n",
       "        0.4922601 , -1.85454847, -0.67051692, -2.18018216, -1.35793918,\n",
       "       -0.62060073,  1.25425997,  0.72455896,  0.12445975,  0.72895591,\n",
       "       -0.16058265,  0.32327887, -2.59049199, -0.13687053,  0.64542817,\n",
       "       -0.65278631,  0.5144796 ,  1.08854498, -1.44471038,  0.38923665,\n",
       "        1.06159758, -0.30134984,  0.12173695,  0.52697277, -0.4664728 ,\n",
       "        1.15057329,  1.29284395,  1.82103167, -1.06870228,  1.04587642,\n",
       "       -1.42892366, -1.74243866,  0.66215807, -0.08131124, -2.61678377,\n",
       "       -0.07172578, -0.96055336,  0.65889286,  1.08053978,  0.15761882,\n",
       "        0.13061588,  0.51805721,  0.45143594,  0.14440512, -1.32493085,\n",
       "       -3.36148244, -1.14347786, -0.40810699,  0.06831646,  0.44105577,\n",
       "        1.02076402,  2.43162338,  0.28910104,  1.06590274,  0.11436072,\n",
       "       -0.11443971, -0.48489581,  1.78425032,  0.0493019 , -0.49265875,\n",
       "       -0.08847466,  1.38216785, -1.82701203,  1.44447949, -0.59223174,\n",
       "        0.78519145,  0.45542862, -0.55472856,  0.32110267, -0.77720019,\n",
       "        0.69354747,  0.83747011,  0.5370957 , -0.93137977,  0.90628971,\n",
       "        0.90841837,  0.1739367 , -0.03946041,  1.65896784,  0.54637706,\n",
       "        0.30002065,  0.97185541,  2.1953397 , -1.34193602, -0.29194588,\n",
       "        0.92130815,  0.73363182, -1.55369515, -0.41859342, -0.98542962,\n",
       "        0.27300991, -0.56803044,  0.87809791, -0.19524716, -0.65056755,\n",
       "       -0.29137649, -0.7837189 ,  1.30075554, -0.35572631,  0.10314346])"
      ]
     },
     "execution_count": 5,
     "metadata": {},
     "output_type": "execute_result"
    }
   ],
   "source": [
    "a"
   ]
  },
  {
   "cell_type": "code",
   "execution_count": 6,
   "metadata": {},
   "outputs": [
    {
     "data": {
      "text/plain": [
       "(array([ 2.,  4.,  8., 16., 27., 48., 46., 28., 16.,  5.]),\n",
       " array([-3.36148244, -2.78217186, -2.20286127, -1.62355069, -1.04424011,\n",
       "        -0.46492953,  0.11438105,  0.69369163,  1.27300221,  1.8523128 ,\n",
       "         2.43162338]),\n",
       " <BarContainer object of 10 artists>)"
      ]
     },
     "execution_count": 6,
     "metadata": {},
     "output_type": "execute_result"
    },
    {
     "data": {
      "image/png": "[encoded data removed]",
      "text/plain": [
       "<Figure size 432x288 with 1 Axes>"
      ]
     },
     "metadata": {
      "needs_background": "light"
     },
     "output_type": "display_data"
    }
   ],
   "source": [
    "plt.hist(a)"
   ]
  },
  {
   "cell_type": "code",
   "execution_count": 7,
   "metadata": {},
   "outputs": [],
   "source": [
    "check= (a<0.8)"
   ]
  },
  {
   "cell_type": "code",
   "execution_count": 8,
   "metadata": {},
   "outputs": [],
   "source": [
    "training= data[check]\n",
    "testing= data[~check]"
   ]
  },
  {
   "cell_type": "code",
   "execution_count": 9,
   "metadata": {},
   "outputs": [
    {
     "data": {
      "text/plain": [
       "200"
      ]
     },
     "execution_count": 9,
     "metadata": {},
     "output_type": "execute_result"
    }
   ],
   "source": [
    "len(data)"
   ]
  },
  {
   "cell_type": "code",
   "execution_count": 10,
   "metadata": {},
   "outputs": [
    {
     "data": {
      "text/plain": [
       "(158, 42)"
      ]
     },
     "execution_count": 10,
     "metadata": {},
     "output_type": "execute_result"
    }
   ],
   "source": [
    "len(training), len(testing)"
   ]
  },
  {
   "cell_type": "code",
   "execution_count": 11,
   "metadata": {},
   "outputs": [],
   "source": [
    "import statsmodels.formula.api as smf"
   ]
  },
  {
   "cell_type": "code",
   "execution_count": 12,
   "metadata": {},
   "outputs": [],
   "source": [
    "lm= smf.ols(formula=\"Sales~TV+Radio\", data= training).fit()"
   ]
  },
  {
   "cell_type": "code",
   "execution_count": 13,
   "metadata": {},
   "outputs": [
    {
     "data": {
      "text/html": [
       "<table class=\"simpletable\">\n",
       "<caption>OLS Regression Results</caption>\n",
       "<tr>\n",
       "  <th>Dep. Variable:</th>          <td>Sales</td>      <th>  R-squared:         </th> <td>   0.897</td>\n",
       "</tr>\n",
       "<tr>\n",
       "  <th>Model:</th>                   <td>OLS</td>       <th>  Adj. R-squared:    </th> <td>   0.895</td>\n",
       "</tr>\n",
       "<tr>\n",
       "  <th>Method:</th>             <td>Least Squares</td>  <th>  F-statistic:       </th> <td>   672.9</td>\n",
       "</tr>\n",
       "<tr>\n",
       "  <th>Date:</th>             <td>Thu, 18 Mar 2021</td> <th>  Prob (F-statistic):</th> <td>3.84e-77</td>\n",
       "</tr>\n",
       "<tr>\n",
       "  <th>Time:</th>                 <td>18:59:22</td>     <th>  Log-Likelihood:    </th> <td> -304.35</td>\n",
       "</tr>\n",
       "<tr>\n",
       "  <th>No. Observations:</th>      <td>   158</td>      <th>  AIC:               </th> <td>   614.7</td>\n",
       "</tr>\n",
       "<tr>\n",
       "  <th>Df Residuals:</th>          <td>   155</td>      <th>  BIC:               </th> <td>   623.9</td>\n",
       "</tr>\n",
       "<tr>\n",
       "  <th>Df Model:</th>              <td>     2</td>      <th>                     </th>     <td> </td>   \n",
       "</tr>\n",
       "<tr>\n",
       "  <th>Covariance Type:</th>      <td>nonrobust</td>    <th>                     </th>     <td> </td>   \n",
       "</tr>\n",
       "</table>\n",
       "<table class=\"simpletable\">\n",
       "<tr>\n",
       "      <td></td>         <th>coef</th>     <th>std err</th>      <th>t</th>      <th>P>|t|</th>  <th>[0.025</th>    <th>0.975]</th>  \n",
       "</tr>\n",
       "<tr>\n",
       "  <th>Intercept</th> <td>    2.7335</td> <td>    0.341</td> <td>    8.024</td> <td> 0.000</td> <td>    2.061</td> <td>    3.406</td>\n",
       "</tr>\n",
       "<tr>\n",
       "  <th>TV</th>        <td>    0.0469</td> <td>    0.002</td> <td>   30.330</td> <td> 0.000</td> <td>    0.044</td> <td>    0.050</td>\n",
       "</tr>\n",
       "<tr>\n",
       "  <th>Radio</th>     <td>    0.1852</td> <td>    0.009</td> <td>   20.060</td> <td> 0.000</td> <td>    0.167</td> <td>    0.203</td>\n",
       "</tr>\n",
       "</table>\n",
       "<table class=\"simpletable\">\n",
       "<tr>\n",
       "  <th>Omnibus:</th>       <td>52.280</td> <th>  Durbin-Watson:     </th> <td>   2.064</td>\n",
       "</tr>\n",
       "<tr>\n",
       "  <th>Prob(Omnibus):</th> <td> 0.000</td> <th>  Jarque-Bera (JB):  </th> <td> 133.115</td>\n",
       "</tr>\n",
       "<tr>\n",
       "  <th>Skew:</th>          <td>-1.373</td> <th>  Prob(JB):          </th> <td>1.24e-29</td>\n",
       "</tr>\n",
       "<tr>\n",
       "  <th>Kurtosis:</th>      <td> 6.560</td> <th>  Cond. No.          </th> <td>    440.</td>\n",
       "</tr>\n",
       "</table><br/><br/>Notes:<br/>[1] Standard Errors assume that the covariance matrix of the errors is correctly specified."
      ],
      "text/plain": [
       "<class 'statsmodels.iolib.summary.Summary'>\n",
       "\"\"\"\n",
       "                            OLS Regression Results                            \n",
       "==============================================================================\n",
       "Dep. Variable:                  Sales   R-squared:                       0.897\n",
       "Model:                            OLS   Adj. R-squared:                  0.895\n",
       "Method:                 Least Squares   F-statistic:                     672.9\n",
       "Date:                Thu, 18 Mar 2021   Prob (F-statistic):           3.84e-77\n",
       "Time:                        18:59:22   Log-Likelihood:                -304.35\n",
       "No. Observations:                 158   AIC:                             614.7\n",
       "Df Residuals:                     155   BIC:                             623.9\n",
       "Df Model:                           2                                         \n",
       "Covariance Type:            nonrobust                                         \n",
       "==============================================================================\n",
       "                 coef    std err          t      P>|t|      [0.025      0.975]\n",
       "------------------------------------------------------------------------------\n",
       "Intercept      2.7335      0.341      8.024      0.000       2.061       3.406\n",
       "TV             0.0469      0.002     30.330      0.000       0.044       0.050\n",
       "Radio          0.1852      0.009     20.060      0.000       0.167       0.203\n",
       "==============================================================================\n",
       "Omnibus:                       52.280   Durbin-Watson:                   2.064\n",
       "Prob(Omnibus):                  0.000   Jarque-Bera (JB):              133.115\n",
       "Skew:                          -1.373   Prob(JB):                     1.24e-29\n",
       "Kurtosis:                       6.560   Cond. No.                         440.\n",
       "==============================================================================\n",
       "\n",
       "Notes:\n",
       "[1] Standard Errors assume that the covariance matrix of the errors is correctly specified.\n",
       "\"\"\""
      ]
     },
     "execution_count": 13,
     "metadata": {},
     "output_type": "execute_result"
    }
   ],
   "source": [
    "lm.summary()"
   ]
  },
  {
   "cell_type": "code",
   "execution_count": 14,
   "metadata": {},
   "outputs": [],
   "source": [
    "sales_pred= lm.predict(testing)"
   ]
  },
  {
   "cell_type": "code",
   "execution_count": 15,
   "metadata": {},
   "outputs": [
    {
     "data": {
      "text/plain": [
       "6      11.506374\n",
       "12     10.350546\n",
       "15     20.738157\n",
       "17     23.274678\n",
       "40     16.367693\n",
       "45     15.118675\n",
       "46      8.776976\n",
       "47     21.678673\n",
       "48     16.323315\n",
       "57     12.681740\n",
       "58     21.812828\n",
       "66      8.767509\n",
       "68     18.968736\n",
       "76      4.320498\n",
       "81     14.748043\n",
       "83     14.184650\n",
       "84     20.717332\n",
       "94     10.367010\n",
       "96     12.656219\n",
       "106     5.943900\n",
       "117     6.467535\n",
       "120    14.328525\n",
       "125     9.011488\n",
       "126    10.303270\n",
       "127     6.497745\n",
       "129     7.753082\n",
       "138     9.548018\n",
       "150    18.482556\n",
       "151     9.968305\n",
       "153    18.125507\n",
       "157    10.005254\n",
       "161    13.385535\n",
       "163    17.222366\n",
       "171    14.324854\n",
       "174    13.801721\n",
       "175    24.785689\n",
       "178    16.146659\n",
       "181    13.989040\n",
       "182     6.426830\n",
       "185    20.707263\n",
       "192     4.300017\n",
       "197    12.763406\n",
       "dtype: float64"
      ]
     },
     "execution_count": 15,
     "metadata": {},
     "output_type": "execute_result"
    }
   ],
   "source": [
    "sales_pred"
   ]
  },
  {
   "cell_type": "code",
   "execution_count": 16,
   "metadata": {},
   "outputs": [],
   "source": [
    "SSD= sum((testing[\"Sales\"]- sales_pred)**2)"
   ]
  },
  {
   "cell_type": "code",
   "execution_count": 17,
   "metadata": {},
   "outputs": [
    {
     "data": {
      "text/plain": [
       "124.65140010455235"
      ]
     },
     "execution_count": 17,
     "metadata": {},
     "output_type": "execute_result"
    }
   ],
   "source": [
    "SSD"
   ]
  },
  {
   "cell_type": "code",
   "execution_count": 19,
   "metadata": {},
   "outputs": [
    {
     "data": {
      "text/plain": [
       "1.7877890664926255"
      ]
     },
     "execution_count": 19,
     "metadata": {},
     "output_type": "execute_result"
    }
   ],
   "source": [
    "RSE = np.sqrt(SSD/(len(testing)-2-1))\n",
    "RSE"
   ]
  },
  {
   "cell_type": "code",
   "execution_count": 21,
   "metadata": {},
   "outputs": [],
   "source": [
    "Sales_mean= np.mean(testing[\"Sales\"])"
   ]
  },
  {
   "cell_type": "code",
   "execution_count": 22,
   "metadata": {},
   "outputs": [],
   "source": [
    "error= RSE/Sales_mean"
   ]
  },
  {
   "cell_type": "code",
   "execution_count": 23,
   "metadata": {},
   "outputs": [
    {
     "data": {
      "text/plain": [
       "0.12868404591720695"
      ]
     },
     "execution_count": 23,
     "metadata": {},
     "output_type": "execute_result"
    }
   ],
   "source": [
    "error"
   ]
  },
  {
   "cell_type": "code",
   "execution_count": null,
   "metadata": {},
   "outputs": [],
   "source": []
  },
  {
   "cell_type": "code",
   "execution_count": null,
   "metadata": {},
   "outputs": [],
   "source": []
  },
  {
   "cell_type": "code",
   "execution_count": null,
   "metadata": {},
   "outputs": [],
   "source": []
  },
  {
   "cell_type": "code",
   "execution_count": null,
   "metadata": {},
   "outputs": [],
   "source": []
  },
  {
   "cell_type": "code",
   "execution_count": null,
   "metadata": {},
   "outputs": [],
   "source": []
  }
 ],
 "metadata": {
  "kernelspec": {
   "display_name": "Python 3",
   "language": "python",
   "name": "python3"
  },
  "language_info": {
   "codemirror_mode": {
    "name": "ipython",
    "version": 3
   },
   "file_extension": ".py",
   "mimetype": "text/x-python",
   "name": "python",
   "nbconvert_exporter": "python",
   "pygments_lexer": "ipython3",
   "version": "3.8.5"
  }
 },
 "nbformat": 4,
 "nbformat_minor": 4
}
