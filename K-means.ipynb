{
 "cells": [
  {
   "cell_type": "markdown",
   "metadata": {},
   "source": [
    "### El metodo de K-means"
   ]
  },
  {
   "cell_type": "code",
   "execution_count": 1,
   "metadata": {},
   "outputs": [],
   "source": [
    "import numpy as np "
   ]
  },
  {
   "cell_type": "code",
   "execution_count": 4,
   "metadata": {},
   "outputs": [
    {
     "data": {
      "text/plain": [
       "array([[0.23805495, 0.22592222, 0.40262874],\n",
       "       [0.84401007, 0.2165415 , 0.36027578],\n",
       "       [0.3489907 , 0.81943942, 0.50700588],\n",
       "       [0.55244164, 0.12213152, 0.2900342 ],\n",
       "       [0.81213767, 0.4267304 , 0.07117115],\n",
       "       [0.96303663, 0.95790439, 0.83810681],\n",
       "       [0.06296718, 0.21763719, 0.27167112],\n",
       "       [0.74404528, 0.89261396, 0.79869529],\n",
       "       [0.37563446, 0.25949706, 0.76622589],\n",
       "       [0.23966274, 0.0738697 , 0.36890605],\n",
       "       [0.20354943, 0.56814558, 0.88687128],\n",
       "       [0.58633886, 0.52346076, 0.69734462],\n",
       "       [0.33976009, 0.50031575, 0.36175143],\n",
       "       [0.98341674, 0.10825603, 0.02767154],\n",
       "       [0.84000446, 0.14255392, 0.1629683 ],\n",
       "       [0.92223572, 0.569095  , 0.57320507],\n",
       "       [0.28312484, 0.28690971, 0.72885919],\n",
       "       [0.8632478 , 0.45520899, 0.78512844],\n",
       "       [0.05003107, 0.69419518, 0.97268079],\n",
       "       [0.1371241 , 0.34792083, 0.7926964 ],\n",
       "       [0.34925292, 0.48848119, 0.83734136],\n",
       "       [0.66378801, 0.94967272, 0.81997905],\n",
       "       [0.88228234, 0.04919484, 0.6764423 ],\n",
       "       [0.43070348, 0.39253154, 0.6805503 ],\n",
       "       [0.70167363, 0.36529003, 0.89996135],\n",
       "       [0.54557111, 0.19006537, 0.41312959],\n",
       "       [0.28135537, 0.47106783, 0.25637556],\n",
       "       [0.94759333, 0.58087046, 0.14482401],\n",
       "       [0.98085569, 0.01872928, 0.31639027],\n",
       "       [0.3763131 , 0.32614256, 0.28026081]])"
      ]
     },
     "execution_count": 4,
     "metadata": {},
     "output_type": "execute_result"
    }
   ],
   "source": [
    "data= np.random.random(90).reshape(30, 3)\n",
    "data"
   ]
  },
  {
   "cell_type": "code",
   "execution_count": 7,
   "metadata": {},
   "outputs": [],
   "source": [
    "c1 = np.random.choice(range(len(data)))\n",
    "c2 = np.random.choice(range(len(data)))\n",
    "clust_centers= np.vstack([data[c1], data[c2]])"
   ]
  },
  {
   "cell_type": "code",
   "execution_count": 8,
   "metadata": {},
   "outputs": [],
   "source": [
    "from scipy.cluster.vq import vq"
   ]
  },
  {
   "cell_type": "code",
   "execution_count": 9,
   "metadata": {},
   "outputs": [
    {
     "data": {
      "text/plain": [
       "(array([1, 1, 0, 1, 1, 0, 1, 0, 0, 1, 0, 0, 1, 1, 1, 0, 0, 0, 0, 0, 0, 0,\n",
       "        1, 0, 0, 1, 1, 1, 1, 1]),\n",
       " array([0.69264639, 0.35885472, 0.46261243, 0.45620559, 0.        ,\n",
       "        0.29991017, 0.80322887, 0.10074686, 0.74984285, 0.73544836,\n",
       "        0.60154558, 0.45021574, 0.55945713, 0.36421788, 0.29993257,\n",
       "        0.52204599, 0.76971558, 0.53431559, 0.68211742, 0.80014033,\n",
       "        0.55850819, 0.        , 0.716803  , 0.61981858, 0.5910462 ,\n",
       "        0.49396725, 0.56391164, 0.21801866, 0.50503772, 0.49374027]))"
      ]
     },
     "execution_count": 9,
     "metadata": {},
     "output_type": "execute_result"
    }
   ],
   "source": [
    "vq(data, clust_centers)"
   ]
  },
  {
   "cell_type": "code",
   "execution_count": 10,
   "metadata": {},
   "outputs": [],
   "source": [
    "from scipy.cluster.vq import kmeans"
   ]
  },
  {
   "cell_type": "code",
   "execution_count": null,
   "metadata": {},
   "outputs": [],
   "source": []
  },
  {
   "cell_type": "code",
   "execution_count": null,
   "metadata": {},
   "outputs": [],
   "source": []
  },
  {
   "cell_type": "code",
   "execution_count": null,
   "metadata": {},
   "outputs": [],
   "source": []
  },
  {
   "cell_type": "code",
   "execution_count": null,
   "metadata": {},
   "outputs": [],
   "source": []
  },
  {
   "cell_type": "code",
   "execution_count": null,
   "metadata": {},
   "outputs": [],
   "source": []
  }
 ],
 "metadata": {
  "kernelspec": {
   "display_name": "Python 3",
   "language": "python",
   "name": "python3"
  },
  "language_info": {
   "codemirror_mode": {
    "name": "ipython",
    "version": 3
   },
   "file_extension": ".py",
   "mimetype": "text/x-python",
   "name": "python",
   "nbconvert_exporter": "python",
   "pygments_lexer": "ipython3",
   "version": "3.8.5"
  }
 },
 "nbformat": 4,
 "nbformat_minor": 4
}
