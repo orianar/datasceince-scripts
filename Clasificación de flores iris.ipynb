{
 "cells": [
  {
   "cell_type": "markdown",
   "metadata": {},
   "source": [
    "# Clasificacion de flores iris"
   ]
  },
  {
   "cell_type": "code",
   "execution_count": 1,
   "metadata": {},
   "outputs": [],
   "source": [
    "import pandas as pd\n",
    "import numpy as np\n",
    "import matplotlib.pyplot as plt\n",
    "from sklearn import svm, datasets\n",
    "%matplotlib inline"
   ]
  },
  {
   "cell_type": "code",
   "execution_count": 2,
   "metadata": {},
   "outputs": [],
   "source": [
    "iris= datasets.load_iris()"
   ]
  },
  {
   "cell_type": "code",
   "execution_count": 3,
   "metadata": {},
   "outputs": [
    {
     "data": {
      "text/plain": [
       "{'data': array([[5.1, 3.5, 1.4, 0.2],\n",
       "        [4.9, 3. , 1.4, 0.2],\n",
       "        [4.7, 3.2, 1.3, 0.2],\n",
       "        [4.6, 3.1, 1.5, 0.2],\n",
       "        [5. , 3.6, 1.4, 0.2],\n",
       "        [5.4, 3.9, 1.7, 0.4],\n",
       "        [4.6, 3.4, 1.4, 0.3],\n",
       "        [5. , 3.4, 1.5, 0.2],\n",
       "        [4.4, 2.9, 1.4, 0.2],\n",
       "        [4.9, 3.1, 1.5, 0.1],\n",
       "        [5.4, 3.7, 1.5, 0.2],\n",
       "        [4.8, 3.4, 1.6, 0.2],\n",
       "        [4.8, 3. , 1.4, 0.1],\n",
       "        [4.3, 3. , 1.1, 0.1],\n",
       "        [5.8, 4. , 1.2, 0.2],\n",
       "        [5.7, 4.4, 1.5, 0.4],\n",
       "        [5.4, 3.9, 1.3, 0.4],\n",
       "        [5.1, 3.5, 1.4, 0.3],\n",
       "        [5.7, 3.8, 1.7, 0.3],\n",
       "        [5.1, 3.8, 1.5, 0.3],\n",
       "        [5.4, 3.4, 1.7, 0.2],\n",
       "        [5.1, 3.7, 1.5, 0.4],\n",
       "        [4.6, 3.6, 1. , 0.2],\n",
       "        [5.1, 3.3, 1.7, 0.5],\n",
       "        [4.8, 3.4, 1.9, 0.2],\n",
       "        [5. , 3. , 1.6, 0.2],\n",
       "        [5. , 3.4, 1.6, 0.4],\n",
       "        [5.2, 3.5, 1.5, 0.2],\n",
       "        [5.2, 3.4, 1.4, 0.2],\n",
       "        [4.7, 3.2, 1.6, 0.2],\n",
       "        [4.8, 3.1, 1.6, 0.2],\n",
       "        [5.4, 3.4, 1.5, 0.4],\n",
       "        [5.2, 4.1, 1.5, 0.1],\n",
       "        [5.5, 4.2, 1.4, 0.2],\n",
       "        [4.9, 3.1, 1.5, 0.2],\n",
       "        [5. , 3.2, 1.2, 0.2],\n",
       "        [5.5, 3.5, 1.3, 0.2],\n",
       "        [4.9, 3.6, 1.4, 0.1],\n",
       "        [4.4, 3. , 1.3, 0.2],\n",
       "        [5.1, 3.4, 1.5, 0.2],\n",
       "        [5. , 3.5, 1.3, 0.3],\n",
       "        [4.5, 2.3, 1.3, 0.3],\n",
       "        [4.4, 3.2, 1.3, 0.2],\n",
       "        [5. , 3.5, 1.6, 0.6],\n",
       "        [5.1, 3.8, 1.9, 0.4],\n",
       "        [4.8, 3. , 1.4, 0.3],\n",
       "        [5.1, 3.8, 1.6, 0.2],\n",
       "        [4.6, 3.2, 1.4, 0.2],\n",
       "        [5.3, 3.7, 1.5, 0.2],\n",
       "        [5. , 3.3, 1.4, 0.2],\n",
       "        [7. , 3.2, 4.7, 1.4],\n",
       "        [6.4, 3.2, 4.5, 1.5],\n",
       "        [6.9, 3.1, 4.9, 1.5],\n",
       "        [5.5, 2.3, 4. , 1.3],\n",
       "        [6.5, 2.8, 4.6, 1.5],\n",
       "        [5.7, 2.8, 4.5, 1.3],\n",
       "        [6.3, 3.3, 4.7, 1.6],\n",
       "        [4.9, 2.4, 3.3, 1. ],\n",
       "        [6.6, 2.9, 4.6, 1.3],\n",
       "        [5.2, 2.7, 3.9, 1.4],\n",
       "        [5. , 2. , 3.5, 1. ],\n",
       "        [5.9, 3. , 4.2, 1.5],\n",
       "        [6. , 2.2, 4. , 1. ],\n",
       "        [6.1, 2.9, 4.7, 1.4],\n",
       "        [5.6, 2.9, 3.6, 1.3],\n",
       "        [6.7, 3.1, 4.4, 1.4],\n",
       "        [5.6, 3. , 4.5, 1.5],\n",
       "        [5.8, 2.7, 4.1, 1. ],\n",
       "        [6.2, 2.2, 4.5, 1.5],\n",
       "        [5.6, 2.5, 3.9, 1.1],\n",
       "        [5.9, 3.2, 4.8, 1.8],\n",
       "        [6.1, 2.8, 4. , 1.3],\n",
       "        [6.3, 2.5, 4.9, 1.5],\n",
       "        [6.1, 2.8, 4.7, 1.2],\n",
       "        [6.4, 2.9, 4.3, 1.3],\n",
       "        [6.6, 3. , 4.4, 1.4],\n",
       "        [6.8, 2.8, 4.8, 1.4],\n",
       "        [6.7, 3. , 5. , 1.7],\n",
       "        [6. , 2.9, 4.5, 1.5],\n",
       "        [5.7, 2.6, 3.5, 1. ],\n",
       "        [5.5, 2.4, 3.8, 1.1],\n",
       "        [5.5, 2.4, 3.7, 1. ],\n",
       "        [5.8, 2.7, 3.9, 1.2],\n",
       "        [6. , 2.7, 5.1, 1.6],\n",
       "        [5.4, 3. , 4.5, 1.5],\n",
       "        [6. , 3.4, 4.5, 1.6],\n",
       "        [6.7, 3.1, 4.7, 1.5],\n",
       "        [6.3, 2.3, 4.4, 1.3],\n",
       "        [5.6, 3. , 4.1, 1.3],\n",
       "        [5.5, 2.5, 4. , 1.3],\n",
       "        [5.5, 2.6, 4.4, 1.2],\n",
       "        [6.1, 3. , 4.6, 1.4],\n",
       "        [5.8, 2.6, 4. , 1.2],\n",
       "        [5. , 2.3, 3.3, 1. ],\n",
       "        [5.6, 2.7, 4.2, 1.3],\n",
       "        [5.7, 3. , 4.2, 1.2],\n",
       "        [5.7, 2.9, 4.2, 1.3],\n",
       "        [6.2, 2.9, 4.3, 1.3],\n",
       "        [5.1, 2.5, 3. , 1.1],\n",
       "        [5.7, 2.8, 4.1, 1.3],\n",
       "        [6.3, 3.3, 6. , 2.5],\n",
       "        [5.8, 2.7, 5.1, 1.9],\n",
       "        [7.1, 3. , 5.9, 2.1],\n",
       "        [6.3, 2.9, 5.6, 1.8],\n",
       "        [6.5, 3. , 5.8, 2.2],\n",
       "        [7.6, 3. , 6.6, 2.1],\n",
       "        [4.9, 2.5, 4.5, 1.7],\n",
       "        [7.3, 2.9, 6.3, 1.8],\n",
       "        [6.7, 2.5, 5.8, 1.8],\n",
       "        [7.2, 3.6, 6.1, 2.5],\n",
       "        [6.5, 3.2, 5.1, 2. ],\n",
       "        [6.4, 2.7, 5.3, 1.9],\n",
       "        [6.8, 3. , 5.5, 2.1],\n",
       "        [5.7, 2.5, 5. , 2. ],\n",
       "        [5.8, 2.8, 5.1, 2.4],\n",
       "        [6.4, 3.2, 5.3, 2.3],\n",
       "        [6.5, 3. , 5.5, 1.8],\n",
       "        [7.7, 3.8, 6.7, 2.2],\n",
       "        [7.7, 2.6, 6.9, 2.3],\n",
       "        [6. , 2.2, 5. , 1.5],\n",
       "        [6.9, 3.2, 5.7, 2.3],\n",
       "        [5.6, 2.8, 4.9, 2. ],\n",
       "        [7.7, 2.8, 6.7, 2. ],\n",
       "        [6.3, 2.7, 4.9, 1.8],\n",
       "        [6.7, 3.3, 5.7, 2.1],\n",
       "        [7.2, 3.2, 6. , 1.8],\n",
       "        [6.2, 2.8, 4.8, 1.8],\n",
       "        [6.1, 3. , 4.9, 1.8],\n",
       "        [6.4, 2.8, 5.6, 2.1],\n",
       "        [7.2, 3. , 5.8, 1.6],\n",
       "        [7.4, 2.8, 6.1, 1.9],\n",
       "        [7.9, 3.8, 6.4, 2. ],\n",
       "        [6.4, 2.8, 5.6, 2.2],\n",
       "        [6.3, 2.8, 5.1, 1.5],\n",
       "        [6.1, 2.6, 5.6, 1.4],\n",
       "        [7.7, 3. , 6.1, 2.3],\n",
       "        [6.3, 3.4, 5.6, 2.4],\n",
       "        [6.4, 3.1, 5.5, 1.8],\n",
       "        [6. , 3. , 4.8, 1.8],\n",
       "        [6.9, 3.1, 5.4, 2.1],\n",
       "        [6.7, 3.1, 5.6, 2.4],\n",
       "        [6.9, 3.1, 5.1, 2.3],\n",
       "        [5.8, 2.7, 5.1, 1.9],\n",
       "        [6.8, 3.2, 5.9, 2.3],\n",
       "        [6.7, 3.3, 5.7, 2.5],\n",
       "        [6.7, 3. , 5.2, 2.3],\n",
       "        [6.3, 2.5, 5. , 1.9],\n",
       "        [6.5, 3. , 5.2, 2. ],\n",
       "        [6.2, 3.4, 5.4, 2.3],\n",
       "        [5.9, 3. , 5.1, 1.8]]),\n",
       " 'target': array([0, 0, 0, 0, 0, 0, 0, 0, 0, 0, 0, 0, 0, 0, 0, 0, 0, 0, 0, 0, 0, 0,\n",
       "        0, 0, 0, 0, 0, 0, 0, 0, 0, 0, 0, 0, 0, 0, 0, 0, 0, 0, 0, 0, 0, 0,\n",
       "        0, 0, 0, 0, 0, 0, 1, 1, 1, 1, 1, 1, 1, 1, 1, 1, 1, 1, 1, 1, 1, 1,\n",
       "        1, 1, 1, 1, 1, 1, 1, 1, 1, 1, 1, 1, 1, 1, 1, 1, 1, 1, 1, 1, 1, 1,\n",
       "        1, 1, 1, 1, 1, 1, 1, 1, 1, 1, 1, 1, 2, 2, 2, 2, 2, 2, 2, 2, 2, 2,\n",
       "        2, 2, 2, 2, 2, 2, 2, 2, 2, 2, 2, 2, 2, 2, 2, 2, 2, 2, 2, 2, 2, 2,\n",
       "        2, 2, 2, 2, 2, 2, 2, 2, 2, 2, 2, 2, 2, 2, 2, 2, 2, 2]),\n",
       " 'frame': None,\n",
       " 'target_names': array(['setosa', 'versicolor', 'virginica'], dtype='<U10'),\n",
       " 'DESCR': '.. _iris_dataset:\\n\\nIris plants dataset\\n--------------------\\n\\n**Data Set Characteristics:**\\n\\n    :Number of Instances: 150 (50 in each of three classes)\\n    :Number of Attributes: 4 numeric, predictive attributes and the class\\n    :Attribute Information:\\n        - sepal length in cm\\n        - sepal width in cm\\n        - petal length in cm\\n        - petal width in cm\\n        - class:\\n                - Iris-Setosa\\n                - Iris-Versicolour\\n                - Iris-Virginica\\n                \\n    :Summary Statistics:\\n\\n    ============== ==== ==== ======= ===== ====================\\n                    Min  Max   Mean    SD   Class Correlation\\n    ============== ==== ==== ======= ===== ====================\\n    sepal length:   4.3  7.9   5.84   0.83    0.7826\\n    sepal width:    2.0  4.4   3.05   0.43   -0.4194\\n    petal length:   1.0  6.9   3.76   1.76    0.9490  (high!)\\n    petal width:    0.1  2.5   1.20   0.76    0.9565  (high!)\\n    ============== ==== ==== ======= ===== ====================\\n\\n    :Missing Attribute Values: None\\n    :Class Distribution: 33.3% for each of 3 classes.\\n    :Creator: R.A. Fisher\\n    :Donor: Michael Marshall (MARSHALL%PLU@io.arc.nasa.gov)\\n    :Date: July, 1988\\n\\nThe famous Iris database, first used by Sir R.A. Fisher. The dataset is taken\\nfrom Fisher\\'s paper. Note that it\\'s the same as in R, but not as in the UCI\\nMachine Learning Repository, which has two wrong data points.\\n\\nThis is perhaps the best known database to be found in the\\npattern recognition literature.  Fisher\\'s paper is a classic in the field and\\nis referenced frequently to this day.  (See Duda & Hart, for example.)  The\\ndata set contains 3 classes of 50 instances each, where each class refers to a\\ntype of iris plant.  One class is linearly separable from the other 2; the\\nlatter are NOT linearly separable from each other.\\n\\n.. topic:: References\\n\\n   - Fisher, R.A. \"The use of multiple measurements in taxonomic problems\"\\n     Annual Eugenics, 7, Part II, 179-188 (1936); also in \"Contributions to\\n     Mathematical Statistics\" (John Wiley, NY, 1950).\\n   - Duda, R.O., & Hart, P.E. (1973) Pattern Classification and Scene Analysis.\\n     (Q327.D83) John Wiley & Sons.  ISBN 0-471-22361-1.  See page 218.\\n   - Dasarathy, B.V. (1980) \"Nosing Around the Neighborhood: A New System\\n     Structure and Classification Rule for Recognition in Partially Exposed\\n     Environments\".  IEEE Transactions on Pattern Analysis and Machine\\n     Intelligence, Vol. PAMI-2, No. 1, 67-71.\\n   - Gates, G.W. (1972) \"The Reduced Nearest Neighbor Rule\".  IEEE Transactions\\n     on Information Theory, May 1972, 431-433.\\n   - See also: 1988 MLC Proceedings, 54-64.  Cheeseman et al\"s AUTOCLASS II\\n     conceptual clustering system finds 3 classes in the data.\\n   - Many, many more ...',\n",
       " 'feature_names': ['sepal length (cm)',\n",
       "  'sepal width (cm)',\n",
       "  'petal length (cm)',\n",
       "  'petal width (cm)'],\n",
       " 'filename': 'C:\\\\ProgramData\\\\Anaconda3\\\\lib\\\\site-packages\\\\sklearn\\\\datasets\\\\data\\\\iris.csv'}"
      ]
     },
     "execution_count": 3,
     "metadata": {},
     "output_type": "execute_result"
    }
   ],
   "source": [
    "iris"
   ]
  },
  {
   "cell_type": "code",
   "execution_count": 4,
   "metadata": {},
   "outputs": [],
   "source": [
    "X= iris.data[:,:2]\n",
    "Y= iris.target\n"
   ]
  },
  {
   "cell_type": "code",
   "execution_count": 5,
   "metadata": {},
   "outputs": [],
   "source": [
    "x_min, x_max = X[:,0].min()-1, X[:,0].max()+1\n",
    "y_min, y_max = X[:,1].min()-1, X[:,1].max()+1\n",
    "h = (x_max - x_min)/100"
   ]
  },
  {
   "cell_type": "code",
   "execution_count": 6,
   "metadata": {},
   "outputs": [],
   "source": [
    "xx, yy = np.meshgrid(np.arange(x_min, x_max, h), np.arange(y_min, y_max, h))\n",
    "\n",
    "X_plot = np.c_[xx.ravel(), yy.ravel()]"
   ]
  },
  {
   "cell_type": "code",
   "execution_count": 7,
   "metadata": {},
   "outputs": [],
   "source": [
    "C= 1.0\n",
    "svc= svm.SVC(kernel='linear', C=C, decision_function_shape=\"ovr\").fit(X, Y)\n",
    "Ypred= svc.predict(X_plot)\n",
    "Ypred= Ypred.reshape(xx.shape)"
   ]
  },
  {
   "cell_type": "code",
   "execution_count": 8,
   "metadata": {},
   "outputs": [
    {
     "data": {
      "text/plain": [
       "Text(0.5, 1.0, 'SVC para las flores de Iris con Kernel Lineal')"
      ]
     },
     "execution_count": 8,
     "metadata": {},
     "output_type": "execute_result"
    },
    {
     "data": {
      "image/png": "[encoded data removed]",
      "text/plain": [
       "<Figure size 1152x648 with 1 Axes>"
      ]
     },
     "metadata": {
      "needs_background": "light"
     },
     "output_type": "display_data"
    }
   ],
   "source": [
    "plt.figure(figsize=(16,9))\n",
    "plt.contourf(xx, yy, Ypred, cmap=plt.cm.tab10, alpha = 0.3)\n",
    "plt.scatter(X[:,0], X[:,1], c=Y, cmap=plt.cm.tab10)\n",
    "plt.xlabel(\"Longitud de los pétalos\")\n",
    "plt.ylabel(\"Anchura de los pétalos\")\n",
    "plt.xlim(xx.min(), xx.max())\n",
    "plt.title(\"SVC para las flores de Iris con Kernel Lineal\")"
   ]
  },
  {
   "cell_type": "code",
   "execution_count": 9,
   "metadata": {},
   "outputs": [],
   "source": [
    "#Entrenamiento y validacion cruzada\n",
    "from sklearn.model_selection import train_test_split, GridSearchCV\n",
    "from sklearn.utils import shuffle\n",
    "from sklearn.metrics import classification_report"
   ]
  },
  {
   "cell_type": "code",
   "execution_count": 10,
   "metadata": {},
   "outputs": [],
   "source": [
    "X, Y= shuffle(X, Y, random_state = 0)"
   ]
  },
  {
   "cell_type": "code",
   "execution_count": 11,
   "metadata": {},
   "outputs": [],
   "source": [
    "X_train, X_test, Y_train, Y_test= train_test_split(X, Y, test_size = 0.25, random_state=0)\n"
   ]
  },
  {
   "cell_type": "code",
   "execution_count": 12,
   "metadata": {},
   "outputs": [],
   "source": [
    "parameters=[\n",
    "    {\n",
    "        'kernel':['rbf'],\n",
    "        'gamma':[1e-4,1e-3,1e-2, 0.1, 0.2, 0.5],\n",
    "        'C':[1,10,100,1000]\n",
    "    },\n",
    "    {\n",
    "        'kernel':['linear'],\n",
    "        'C':[1,10,100,1000]\n",
    "        \n",
    "    }\n",
    "]"
   ]
  },
  {
   "cell_type": "code",
   "execution_count": 13,
   "metadata": {},
   "outputs": [
    {
     "data": {
      "text/plain": [
       "GridSearchCV(cv=5, estimator=SVC(),\n",
       "             param_grid=[{'C': [1, 10, 100, 1000],\n",
       "                          'gamma': [0.0001, 0.001, 0.01, 0.1, 0.2, 0.5],\n",
       "                          'kernel': ['rbf']},\n",
       "                         {'C': [1, 10, 100, 1000], 'kernel': ['linear']}])"
      ]
     },
     "execution_count": 13,
     "metadata": {},
     "output_type": "execute_result"
    }
   ],
   "source": [
    "##Validacion Cruzada\n",
    "clf= GridSearchCV(svm.SVC(decision_function_shape='ovr'), param_grid=parameters, cv=5)\n",
    "clf.fit(X, Y)\n"
   ]
  },
  {
   "cell_type": "code",
   "execution_count": 14,
   "metadata": {},
   "outputs": [
    {
     "data": {
      "text/plain": [
       "{'C': 10, 'gamma': 0.01, 'kernel': 'rbf'}"
      ]
     },
     "execution_count": 14,
     "metadata": {},
     "output_type": "execute_result"
    }
   ],
   "source": [
    "clf.best_params_"
   ]
  },
  {
   "cell_type": "code",
   "execution_count": 15,
   "metadata": {},
   "outputs": [
    {
     "data": {
      "text/plain": [
       "{'mean_fit_time': array([0.00239887, 0.00159559, 0.00119944, 0.00099978, 0.00099988,\n",
       "        0.00099959, 0.00099955, 0.00120363, 0.00079994, 0.0009994 ,\n",
       "        0.00080414, 0.00099921, 0.00119953, 0.00100012, 0.00100012,\n",
       "        0.00099516, 0.00100031, 0.00119948, 0.00099993, 0.00099969,\n",
       "        0.0007998 , 0.00159903, 0.00260229, 0.0027987 , 0.00099936,\n",
       "        0.00100398, 0.00119891, 0.00599904]),\n",
       " 'std_fit_time': array([4.79818148e-04, 4.87315225e-04, 3.99494313e-04, 3.56832255e-07,\n",
       "        7.89305942e-07, 1.18347870e-06, 8.47644274e-07, 4.08841097e-04,\n",
       "        3.99972287e-04, 5.72204590e-07, 4.02156369e-04, 4.52367448e-07,\n",
       "        3.99684934e-04, 1.45728176e-06, 1.85538067e-06, 8.82728489e-06,\n",
       "        7.77697870e-07, 3.99709583e-04, 6.03156597e-07, 8.52992240e-07,\n",
       "        3.99899493e-04, 4.89162241e-04, 1.02072865e-03, 7.53060556e-04,\n",
       "        4.42200589e-07, 9.06868559e-06, 3.99399145e-04, 3.40020143e-03]),\n",
       " 'mean_score_time': array([0.00059919, 0.00040002, 0.00039978, 0.00079918, 0.00079918,\n",
       "        0.        , 0.00079908, 0.0001997 , 0.00059929, 0.00059943,\n",
       "        0.00059528, 0.        , 0.00059943, 0.00099931, 0.00039983,\n",
       "        0.00019984, 0.        , 0.00039945, 0.00039983, 0.00019989,\n",
       "        0.00039964, 0.00039973, 0.00059972, 0.00080361, 0.00019984,\n",
       "        0.00079494, 0.00039973, 0.00019989]),\n",
       " 'std_score_time': array([4.89239906e-04, 4.89921126e-04, 4.89628863e-04, 3.99589567e-04,\n",
       "        3.99590051e-04, 0.00000000e+00, 3.99541983e-04, 3.99398804e-04,\n",
       "        4.89317704e-04, 4.89434505e-04, 4.86112959e-04, 0.00000000e+00,\n",
       "        4.89434179e-04, 2.43140197e-07, 4.89687246e-04, 3.99684906e-04,\n",
       "        0.00000000e+00, 4.89220043e-04, 4.89687246e-04, 3.99780273e-04,\n",
       "        4.89453691e-04, 4.89570724e-04, 4.89668013e-04, 4.01881163e-04,\n",
       "        3.99684906e-04, 3.97550621e-04, 4.89570445e-04, 3.99780273e-04]),\n",
       " 'param_C': masked_array(data=[1, 1, 1, 1, 1, 1, 10, 10, 10, 10, 10, 10, 100, 100,\n",
       "                    100, 100, 100, 100, 1000, 1000, 1000, 1000, 1000, 1000,\n",
       "                    1, 10, 100, 1000],\n",
       "              mask=[False, False, False, False, False, False, False, False,\n",
       "                    False, False, False, False, False, False, False, False,\n",
       "                    False, False, False, False, False, False, False, False,\n",
       "                    False, False, False, False],\n",
       "        fill_value='?',\n",
       "             dtype=object),\n",
       " 'param_gamma': masked_array(data=[0.0001, 0.001, 0.01, 0.1, 0.2, 0.5, 0.0001, 0.001,\n",
       "                    0.01, 0.1, 0.2, 0.5, 0.0001, 0.001, 0.01, 0.1, 0.2,\n",
       "                    0.5, 0.0001, 0.001, 0.01, 0.1, 0.2, 0.5, --, --, --,\n",
       "                    --],\n",
       "              mask=[False, False, False, False, False, False, False, False,\n",
       "                    False, False, False, False, False, False, False, False,\n",
       "                    False, False, False, False, False, False, False, False,\n",
       "                     True,  True,  True,  True],\n",
       "        fill_value='?',\n",
       "             dtype=object),\n",
       " 'param_kernel': masked_array(data=['rbf', 'rbf', 'rbf', 'rbf', 'rbf', 'rbf', 'rbf', 'rbf',\n",
       "                    'rbf', 'rbf', 'rbf', 'rbf', 'rbf', 'rbf', 'rbf', 'rbf',\n",
       "                    'rbf', 'rbf', 'rbf', 'rbf', 'rbf', 'rbf', 'rbf', 'rbf',\n",
       "                    'linear', 'linear', 'linear', 'linear'],\n",
       "              mask=[False, False, False, False, False, False, False, False,\n",
       "                    False, False, False, False, False, False, False, False,\n",
       "                    False, False, False, False, False, False, False, False,\n",
       "                    False, False, False, False],\n",
       "        fill_value='?',\n",
       "             dtype=object),\n",
       " 'params': [{'C': 1, 'gamma': 0.0001, 'kernel': 'rbf'},\n",
       "  {'C': 1, 'gamma': 0.001, 'kernel': 'rbf'},\n",
       "  {'C': 1, 'gamma': 0.01, 'kernel': 'rbf'},\n",
       "  {'C': 1, 'gamma': 0.1, 'kernel': 'rbf'},\n",
       "  {'C': 1, 'gamma': 0.2, 'kernel': 'rbf'},\n",
       "  {'C': 1, 'gamma': 0.5, 'kernel': 'rbf'},\n",
       "  {'C': 10, 'gamma': 0.0001, 'kernel': 'rbf'},\n",
       "  {'C': 10, 'gamma': 0.001, 'kernel': 'rbf'},\n",
       "  {'C': 10, 'gamma': 0.01, 'kernel': 'rbf'},\n",
       "  {'C': 10, 'gamma': 0.1, 'kernel': 'rbf'},\n",
       "  {'C': 10, 'gamma': 0.2, 'kernel': 'rbf'},\n",
       "  {'C': 10, 'gamma': 0.5, 'kernel': 'rbf'},\n",
       "  {'C': 100, 'gamma': 0.0001, 'kernel': 'rbf'},\n",
       "  {'C': 100, 'gamma': 0.001, 'kernel': 'rbf'},\n",
       "  {'C': 100, 'gamma': 0.01, 'kernel': 'rbf'},\n",
       "  {'C': 100, 'gamma': 0.1, 'kernel': 'rbf'},\n",
       "  {'C': 100, 'gamma': 0.2, 'kernel': 'rbf'},\n",
       "  {'C': 100, 'gamma': 0.5, 'kernel': 'rbf'},\n",
       "  {'C': 1000, 'gamma': 0.0001, 'kernel': 'rbf'},\n",
       "  {'C': 1000, 'gamma': 0.001, 'kernel': 'rbf'},\n",
       "  {'C': 1000, 'gamma': 0.01, 'kernel': 'rbf'},\n",
       "  {'C': 1000, 'gamma': 0.1, 'kernel': 'rbf'},\n",
       "  {'C': 1000, 'gamma': 0.2, 'kernel': 'rbf'},\n",
       "  {'C': 1000, 'gamma': 0.5, 'kernel': 'rbf'},\n",
       "  {'C': 1, 'kernel': 'linear'},\n",
       "  {'C': 10, 'kernel': 'linear'},\n",
       "  {'C': 100, 'kernel': 'linear'},\n",
       "  {'C': 1000, 'kernel': 'linear'}],\n",
       " 'split0_test_score': array([0.63333333, 0.63333333, 0.63333333, 0.7       , 0.7       ,\n",
       "        0.7       , 0.63333333, 0.63333333, 0.7       , 0.7       ,\n",
       "        0.73333333, 0.7       , 0.63333333, 0.7       , 0.7       ,\n",
       "        0.73333333, 0.73333333, 0.7       , 0.7       , 0.7       ,\n",
       "        0.7       , 0.73333333, 0.7       , 0.66666667, 0.7       ,\n",
       "        0.7       , 0.7       , 0.7       ]),\n",
       " 'split1_test_score': array([0.73333333, 0.73333333, 0.73333333, 0.83333333, 0.83333333,\n",
       "        0.8       , 0.73333333, 0.73333333, 0.83333333, 0.8       ,\n",
       "        0.8       , 0.76666667, 0.73333333, 0.83333333, 0.8       ,\n",
       "        0.8       , 0.76666667, 0.8       , 0.83333333, 0.8       ,\n",
       "        0.8       , 0.8       , 0.8       , 0.76666667, 0.8       ,\n",
       "        0.8       , 0.8       , 0.8       ]),\n",
       " 'split2_test_score': array([0.8       , 0.8       , 0.8       , 0.76666667, 0.73333333,\n",
       "        0.73333333, 0.8       , 0.8       , 0.8       , 0.73333333,\n",
       "        0.7       , 0.7       , 0.8       , 0.8       , 0.7       ,\n",
       "        0.73333333, 0.73333333, 0.73333333, 0.8       , 0.7       ,\n",
       "        0.73333333, 0.73333333, 0.73333333, 0.7       , 0.73333333,\n",
       "        0.73333333, 0.73333333, 0.73333333]),\n",
       " 'split3_test_score': array([0.76666667, 0.76666667, 0.76666667, 0.86666667, 0.86666667,\n",
       "        0.86666667, 0.76666667, 0.76666667, 0.86666667, 0.83333333,\n",
       "        0.86666667, 0.86666667, 0.76666667, 0.86666667, 0.83333333,\n",
       "        0.83333333, 0.83333333, 0.8       , 0.86666667, 0.83333333,\n",
       "        0.83333333, 0.83333333, 0.8       , 0.83333333, 0.83333333,\n",
       "        0.83333333, 0.83333333, 0.83333333]),\n",
       " 'split4_test_score': array([0.8       , 0.8       , 0.8       , 0.86666667, 0.8       ,\n",
       "        0.8       , 0.8       , 0.8       , 0.86666667, 0.8       ,\n",
       "        0.8       , 0.8       , 0.8       , 0.86666667, 0.76666667,\n",
       "        0.8       , 0.8       , 0.8       , 0.86666667, 0.76666667,\n",
       "        0.76666667, 0.8       , 0.8       , 0.8       , 0.8       ,\n",
       "        0.76666667, 0.76666667, 0.76666667]),\n",
       " 'mean_test_score': array([0.74666667, 0.74666667, 0.74666667, 0.80666667, 0.78666667,\n",
       "        0.78      , 0.74666667, 0.74666667, 0.81333333, 0.77333333,\n",
       "        0.78      , 0.76666667, 0.74666667, 0.81333333, 0.76      ,\n",
       "        0.78      , 0.77333333, 0.76666667, 0.81333333, 0.76      ,\n",
       "        0.76666667, 0.78      , 0.76666667, 0.75333333, 0.77333333,\n",
       "        0.76666667, 0.76666667, 0.76666667]),\n",
       " 'std_test_score': array([0.06182412, 0.06182412, 0.06182412, 0.06463573, 0.06182412,\n",
       "        0.05811865, 0.06182412, 0.06182412, 0.06182412, 0.04898979,\n",
       "        0.05811865, 0.06324555, 0.06182412, 0.06182412, 0.05333333,\n",
       "        0.04      , 0.03887301, 0.0421637 , 0.06182412, 0.05333333,\n",
       "        0.04714045, 0.04      , 0.0421637 , 0.06182412, 0.04898979,\n",
       "        0.04714045, 0.04714045, 0.04714045]),\n",
       " 'rank_test_score': array([23, 23, 23,  4,  5,  6, 23, 23,  1, 10,  6, 13, 23,  1, 20,  6, 10,\n",
       "        18,  1, 20, 14,  6, 18, 22, 10, 14, 14, 14])}"
      ]
     },
     "execution_count": 15,
     "metadata": {},
     "output_type": "execute_result"
    }
   ],
   "source": [
    "clf.cv_results_"
   ]
  },
  {
   "cell_type": "code",
   "execution_count": 16,
   "metadata": {},
   "outputs": [
    {
     "name": "stdout",
     "output_type": "stream",
     "text": [
      "0.747 (+/-0.124) para {'C': 1, 'gamma': 0.0001, 'kernel': 'rbf'}\n",
      "0.747 (+/-0.124) para {'C': 1, 'gamma': 0.001, 'kernel': 'rbf'}\n",
      "0.747 (+/-0.124) para {'C': 1, 'gamma': 0.01, 'kernel': 'rbf'}\n",
      "0.807 (+/-0.129) para {'C': 1, 'gamma': 0.1, 'kernel': 'rbf'}\n",
      "0.787 (+/-0.124) para {'C': 1, 'gamma': 0.2, 'kernel': 'rbf'}\n",
      "0.780 (+/-0.116) para {'C': 1, 'gamma': 0.5, 'kernel': 'rbf'}\n",
      "0.747 (+/-0.124) para {'C': 10, 'gamma': 0.0001, 'kernel': 'rbf'}\n",
      "0.747 (+/-0.124) para {'C': 10, 'gamma': 0.001, 'kernel': 'rbf'}\n",
      "0.813 (+/-0.124) para {'C': 10, 'gamma': 0.01, 'kernel': 'rbf'}\n",
      "0.773 (+/-0.098) para {'C': 10, 'gamma': 0.1, 'kernel': 'rbf'}\n",
      "0.780 (+/-0.116) para {'C': 10, 'gamma': 0.2, 'kernel': 'rbf'}\n",
      "0.767 (+/-0.126) para {'C': 10, 'gamma': 0.5, 'kernel': 'rbf'}\n",
      "0.747 (+/-0.124) para {'C': 100, 'gamma': 0.0001, 'kernel': 'rbf'}\n",
      "0.813 (+/-0.124) para {'C': 100, 'gamma': 0.001, 'kernel': 'rbf'}\n",
      "0.760 (+/-0.107) para {'C': 100, 'gamma': 0.01, 'kernel': 'rbf'}\n",
      "0.780 (+/-0.080) para {'C': 100, 'gamma': 0.1, 'kernel': 'rbf'}\n",
      "0.773 (+/-0.078) para {'C': 100, 'gamma': 0.2, 'kernel': 'rbf'}\n",
      "0.767 (+/-0.084) para {'C': 100, 'gamma': 0.5, 'kernel': 'rbf'}\n",
      "0.813 (+/-0.124) para {'C': 1000, 'gamma': 0.0001, 'kernel': 'rbf'}\n",
      "0.760 (+/-0.107) para {'C': 1000, 'gamma': 0.001, 'kernel': 'rbf'}\n",
      "0.767 (+/-0.094) para {'C': 1000, 'gamma': 0.01, 'kernel': 'rbf'}\n",
      "0.780 (+/-0.080) para {'C': 1000, 'gamma': 0.1, 'kernel': 'rbf'}\n",
      "0.767 (+/-0.084) para {'C': 1000, 'gamma': 0.2, 'kernel': 'rbf'}\n",
      "0.753 (+/-0.124) para {'C': 1000, 'gamma': 0.5, 'kernel': 'rbf'}\n",
      "0.773 (+/-0.098) para {'C': 1, 'kernel': 'linear'}\n",
      "0.767 (+/-0.094) para {'C': 10, 'kernel': 'linear'}\n",
      "0.767 (+/-0.094) para {'C': 100, 'kernel': 'linear'}\n",
      "0.767 (+/-0.094) para {'C': 1000, 'kernel': 'linear'}\n"
     ]
    }
   ],
   "source": [
    "means = clf.cv_results_['mean_test_score']\n",
    "stds = clf.cv_results_['std_test_score']\n",
    "params = clf.cv_results_['params']\n",
    "for m, s, p in zip(means, stds, params):\n",
    "    print(\"%0.3f (+/-%0.3f) para %r\"%(m, 2*s, p))"
   ]
  },
  {
   "cell_type": "code",
   "execution_count": 17,
   "metadata": {},
   "outputs": [],
   "source": [
    "Y_pred= clf.predict(X_test)\n"
   ]
  },
  {
   "cell_type": "code",
   "execution_count": 18,
   "metadata": {},
   "outputs": [
    {
     "name": "stdout",
     "output_type": "stream",
     "text": [
      "              precision    recall  f1-score   support\n",
      "\n",
      "      setosa       1.00      1.00      1.00        11\n",
      "  versicolor       0.60      0.82      0.69        11\n",
      "   virginica       0.83      0.62      0.71        16\n",
      "\n",
      "    accuracy                           0.79        38\n",
      "   macro avg       0.81      0.81      0.80        38\n",
      "weighted avg       0.81      0.79      0.79        38\n",
      "\n"
     ]
    }
   ],
   "source": [
    "print( classification_report(Y_test, Y_pred, target_names=[\"setosa\", \"versicolor\",\"virginica\"]))"
   ]
  },
  {
   "cell_type": "markdown",
   "metadata": {},
   "source": [
    "## Resumen de clasificacion de iris"
   ]
  },
  {
   "cell_type": "code",
   "execution_count": 19,
   "metadata": {},
   "outputs": [],
   "source": [
    "def svm_iris(C=1.0, gamma = 0.01, kernel = \"rbf\"):\n",
    "    import pandas as pd\n",
    "    import numpy as np\n",
    "    from sklearn import svm, datasets\n",
    "    import matplotlib.pyplot as plt\n",
    "\n",
    "    iris = datasets.load_iris()\n",
    "    \n",
    "    \n",
    "    X = iris.data[:, :2]\n",
    "    Y = iris.target\n",
    "\n",
    "    x_min, x_max = X[:,0].min()-1, X[:,0].max()+1\n",
    "    y_min, y_max = X[:,1].min()-1, X[:,1].max()+1\n",
    "    h = (x_max - x_min)/100\n",
    "\n",
    "    xx, yy = np.meshgrid(np.arange(x_min, x_max, h), np.arange(y_min, y_max, h))\n",
    "\n",
    "    X_plot = np.c_[xx.ravel(), yy.ravel()]\n",
    "\n",
    "    svc = svm.SVC(kernel=kernel, C=C, gamma=gamma, decision_function_shape=\"ovr\").fit(X,Y)\n",
    "    Ypred = svc.predict(X_plot)\n",
    "    Ypred = Ypred.reshape(xx.shape)\n",
    "    plt.figure(figsize=(16,9))\n",
    "    plt.contourf(xx,yy,Ypred, cmap=plt.cm.tab10, alpha = 0.3)\n",
    "    plt.scatter(X[:,0], X[:,1], c=Y, cmap=plt.cm.tab10)\n",
    "    plt.xlabel(\"Longitud de los pétalos\")\n",
    "    plt.ylabel(\"Anchura de los pétalos\")\n",
    "    plt.xlim(xx.min(), xx.max())\n",
    "    plt.title(\"SVC para las flores de Iris con Kernel \"+kernel)"
   ]
  },
  {
   "cell_type": "code",
   "execution_count": 20,
   "metadata": {},
   "outputs": [],
   "source": [
    "from ipywidgets import interact, fixed"
   ]
  },
  {
   "cell_type": "code",
   "execution_count": 21,
   "metadata": {},
   "outputs": [
    {
     "data": {
      "application/vnd.jupyter.widget-view+json": {
       "model_id": "99a9f7b815754250aab2c9e2c9bf9c65",
       "version_major": 2,
       "version_minor": 0
      },
      "text/plain": [
       "interactive(children=(Dropdown(description='C', index=2, options=(0.01, 0.1, 1, 10, 100, 1000, 1000000.0, 1000…"
      ]
     },
     "metadata": {},
     "output_type": "display_data"
    },
    {
     "data": {
      "text/plain": [
       "<function __main__.svm_iris(C=1.0, gamma=0.01, kernel='rbf')>"
      ]
     },
     "execution_count": 21,
     "metadata": {},
     "output_type": "execute_result"
    }
   ],
   "source": [
    "interact(svm_iris, C=[0.01, 0.1, 1,10,100,1000, 1e6, 1e10], gamma=[1e-5,1e-4,1e-3,1e-2, 0.1, 0.2, 0.5,0.99],\n",
    "        kernel=[\"rbf\",\"linear\",\"sigmoid\",\"poly\"])"
   ]
  },
  {
   "cell_type": "code",
   "execution_count": null,
   "metadata": {},
   "outputs": [],
   "source": []
  },
  {
   "cell_type": "code",
   "execution_count": null,
   "metadata": {},
   "outputs": [],
   "source": []
  },
  {
   "cell_type": "code",
   "execution_count": null,
   "metadata": {},
   "outputs": [],
   "source": []
  },
  {
   "cell_type": "code",
   "execution_count": null,
   "metadata": {},
   "outputs": [],
   "source": []
  },
  {
   "cell_type": "code",
   "execution_count": null,
   "metadata": {},
   "outputs": [],
   "source": []
  },
  {
   "cell_type": "code",
   "execution_count": null,
   "metadata": {},
   "outputs": [],
   "source": []
  },
  {
   "cell_type": "code",
   "execution_count": null,
   "metadata": {},
   "outputs": [],
   "source": []
  },
  {
   "cell_type": "code",
   "execution_count": null,
   "metadata": {},
   "outputs": [],
   "source": []
  }
 ],
 "metadata": {
  "kernelspec": {
   "display_name": "Python 3",
   "language": "python",
   "name": "python3"
  },
  "language_info": {
   "codemirror_mode": {
    "name": "ipython",
    "version": 3
   },
   "file_extension": ".py",
   "mimetype": "text/x-python",
   "name": "python",
   "nbconvert_exporter": "python",
   "pygments_lexer": "ipython3",
   "version": "3.8.5"
  }
 },
 "nbformat": 4,
 "nbformat_minor": 4
}
